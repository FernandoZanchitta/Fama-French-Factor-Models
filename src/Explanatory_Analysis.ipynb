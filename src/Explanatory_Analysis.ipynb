{
 "cells": [
  {
   "attachments": {},
   "cell_type": "markdown",
   "metadata": {
    "id": "tGU4XXuJWzf4"
   },
   "source": [
    "# Abordagem de Modelo Fama e French 3- e 5-Fatores aplicado no Mercado de Ações Brasileiro. \n",
    "\n",
    "## Formalização do Problema:\n",
    "### Contexto\n",
    "A validade dos modelos de CAPM (Modelo de Precificação de ativos) proposto por Sharpe (1964) e Linter(1965) aplicados ao cenário de Finanças Moderno vem sofrendo bastante críticas, e vários modelos alternativos de precificação de ativos foram propostos. Esses modelos tentam capturar a relação risco retorno e explicar os dados de corte transversal da média dos retornos das ações. Entretanto, a maioria dos modelos não consegue ser capturar as relações corretas das anomalias nos testes empiricos.\n",
    "\n",
    "Trabalhos anteriores determinaram ,empiricamente, a significância estatística das variáveis:Tamanho  (*Market Capitalization*), *Book-to-Market* (*B/M*), Investimentos(*Capex*) e Lucro Operacional (*EBITDA)*. Banz (1981) encontrou relações do tamanho das empresas que indicam que empresas menores tendem a ter, na média, retornos maiores. Fama e French (1992) determinou o efeito do valor, representado pelo indicador *Book-to-Market*, e estabelece uma relação positiva entre essa variável e o retorno. Titman, Wei and Xie (2004) mostram que empresas que aumentam seus investimento em capital tendem a ter um retorno ajustado ao risco negativo no futuro.\n",
    "Por fim, Novy-Marx(2013) desenvolve que há uma relação positiva entre empresas lucrativas e retornos esperados.\n",
    "\n",
    "Para determinar se as variáveis acima possuem fatores explicativos necessários, é necessário testar a habilidade de prever retornos ajustados ao risco. Com isso, testes foram feitos de forma a consolidar uma metodologia que gera um modelo de precificação de ativos baseados em fatores, como o modelo de 3 Fatores (Fama e French, 1993).\n",
    "\n",
    "Após 30 anos, o Modelo de 3 fatores tornou-se extremamente consolidado e ganhou muita atenção pela sua capacidade de gerar um retornos acumulados acima do que o tradicional CAPM gerava, para o mercado americano, principalmente no período de 1963-1993. Os autores encotraram um intercepto estatisticamente igual a zero para a regressão, usando os Fatores: Risco, Tamanho e Valor.\n",
    "\n",
    "Outros modelos surgiram com o passar dos anos, na medida que o tradicional FF3F perdia capacidade de explicar retornos e anomalias de Mercado. Assim os autores propuseram a abordagem de 5 Fatores (2014) que inclui as outras duas variáveis mencionadas acima (Investimento e Lucratividade). O modelo *FF5F* encontrou resultados superiores ao FF3F e soube capturar melhor a variação do retorno dos ativos e anomalias de mercado.\n",
    "### Problema\n",
    "O problema envolve a avaliação desse modelo no cenário do Mercado de Ações brasileiro sob a perspectiva do retorno acumulado do portifólio selecionado (*Backtesting*), análise de *Drawdown* e *Sharpe*.Além disso, propor uma comparação do modelo atual de Regressão linear frente a uma alternativa de abordagem utilizando algoritmos de Machine Learning.\n",
    "\n",
    "## Objetivo\n",
    "- implementar os modelos de FF5F e FF3F tradicionais com o conjunto de dados do Mercado brasileiro, e gerar as carteiras dentro dos períodos\n",
    "- Implementar os modelos FF5F e FF3F com o algoritmo de *Bayesian optimization-support vector regression* (BSVR)\n",
    "- Realizar o Backtesting, Análise de Sharpe e Drawndown para validar melhor estratégia aplicada ao cenário Brasileiro.\n",
    "\n",
    "## Revisão bibliográfica:\n",
    "### Artigos\n",
    "Os seguintes artigos abordam problemas parecidos:\n",
    "- Fama, Eugene F. and French, Kenneth R., A Five-Factor Asset Pricing Model (September 2014). Fama-Miller Working Paper, Available at SSRN: https://ssrn.com/abstract=2287202 or http://dx.doi.org/10.2139/ssrn.2287202\n",
    "\n",
    "- Dirkx, P., Peter, F.J. The Fama-French Five-Factor Model Plus Momentum: Evidence for the German Market. Schmalenbach Bus Rev 72, 661–684 (2020). \n",
    "https://link.springer.com/article/10.1007/s41464-020-00105-y#Abs1\n",
    "\n",
    "- Clarice, C. M. Pricing Assets with Fama and French 5-Factor Model: a Brazilian market novelty. 2015. https://www.researchgate.net/publication/277020668_Pricing_Assets_with_Fama_and_French_5-Factor_Model_a_Brazilian_market_novelty\n",
    "\n",
    "- Leonardo,T. B. S.,MODELO DE CINCO FATORES FAMA-FRENCH: TESTE NO MERCADO BRASILIEIRO. 2019 https://bibliotecadigital.fgv.br/dspace/bitstream/handle/10438/27937/DISSERTAÇÃO_MPE_LEONARDO%20TADEU%20BIONDO%20SILVA.pdf?sequence=5&isAllowed=y\n",
    "\n",
    "- Diallo, Boubacar and Bagudu, Aliyu and Zhang, Qi, A Machine Learning Approach to the Fama-French Three- and Five-Factor Models (August 21, 2019). Available at SSRN: https://ssrn.com/abstract=3440840 or http://dx.doi.org/10.2139/ssrn.3440840\n",
    "\n",
    "- Bui Thanh Khoa, Tran Trong Huynh, \"Long Short-Term Memory Recurrent Neural Network for Predicting the Return of Rate Underframe the Fama-French 5 Factor\", Discrete Dynamics in Nature and Society, vol. 2022, Article ID 3936122, 8 pages, 2022. https://doi.org/10.1155/2022/3936122\n",
    "\n",
    "- https://medium.com/the-handbook-of-coding-in-finance/estimating-stock-returns-with-fama-french-three-factor-model-in-python-1a98e3936859\n",
    "\n",
    "### Repositórios:\n",
    "- https://github.com/omartinsky/FamaFrench\n",
    "\n",
    "- https://github.com/ioannisrpt/FamaFrench2015FF5\n",
    "\n",
    "- https://github.com/teal0range/FF5\n",
    "\n",
    "- https://github.com/viniesposito/py-mlfactor\n",
    "\n",
    "- \n",
    "## Base de Dados:\n",
    "A Base de Dados utilizada foi provida pela ComDinheiro, contendo as Ações do índice IFIX (*Data-Ação-Abertura-Alto-Baixo-Fechamento-Volume*).\n",
    "As variáveis necessárias para cálcular os modelos trádicionais de Fatores.\n",
    "\n"
   ]
  },
  {
   "attachments": {},
   "cell_type": "markdown",
   "metadata": {
    "id": "YVhGMgRKt0Ib"
   },
   "source": [
    "# Fama French\n",
    "\n",
    "\n",
    "\n",
    "\n",
    "$r = R_f +b_m \\cdot MER + b_s \\cdot SMB + b_v \\cdot HML + b_p \\cdot RMW + b_i \\cdot CMA$\n",
    "\n",
    "$r$ is expected portifolio return\n",
    "$b_m,b_s,b_v,b_p,b_i$ are factor sensitivities.\n",
    "\n",
    "## Factors Analysis\n",
    "- *MER*: excess return of a broad market over the risk-free rate ($ R_m−R_f $ ) (market factor) \n",
    "- *SMB* : average return on the small stock portfolios minus big stock portfolios (size factor).\n",
    "\n",
    "- *HML*: average return on high book value portfolios minus low book value (value factor).\n",
    "- *RMW* : the average return on robust minus weak operating profitability portfolios (profitability factor).\n",
    "\n",
    "- *CMA* : Conservative minus aggresive investments, proxied by the y/y growth in company asset value (investment factor).\n",
    "\n",
    "Definitions: https://mba.tuck.dartmouth.edu/pages/faculty/ken.french/Data_Library/f-f_5_factors_2x3.html"
   ]
  },
  {
   "attachments": {},
   "cell_type": "markdown",
   "metadata": {},
   "source": [
    "### Bibliotecas:"
   ]
  },
  {
   "cell_type": "code",
   "execution_count": 1,
   "metadata": {
    "id": "E1kCT2LJnQ2N"
   },
   "outputs": [],
   "source": [
    "import pandas as pd\n",
    "import seaborn as sns\n",
    "import matplotlib.pyplot as plt\n",
    "from portfolio import *"
   ]
  },
  {
   "attachments": {},
   "cell_type": "markdown",
   "metadata": {},
   "source": [
    "### Aquisição dos dados"
   ]
  },
  {
   "cell_type": "code",
   "execution_count": 2,
   "metadata": {},
   "outputs": [
    {
     "name": "stderr",
     "output_type": "stream",
     "text": [
      "/Users/zanchitta/Documents/ITA/PO-245/Fama-French-Factor-Models/src/portfolio.py:218: UserWarning: Parsing dates in %d/%m/%Y format when dayfirst=False (the default) was specified. Pass `dayfirst=True` or specify a format to silence this warning.\n",
      "  self.frame['data_da_analise'] = pd.to_datetime(self.frame['data_da_analise'])\n"
     ]
    }
   ],
   "source": [
    "# df_1 = pd.read_excel('../data/ibov_2022_2020.xlsx',index_col=None)\n",
    "# df_2 = pd.read_excel('../data/ibov_2019.xlsx',index_col=None)\n",
    "# df_3 = pd.read_excel('../data/ibov_2018_2015.xlsx',index_col=None)\n",
    "# df_4 = pd.read_excel('../data/ibov_2014_2011.xlsx',index_col=None)\n",
    "# df_5 = pd.read_excel('../data/ibov_2010_2007.xlsx',index_col=None)\n",
    "# df_6 = pd.read_excel('../data/ibov_2005_2001.xlsx',index_col=None)\n",
    "# df_7 = pd.read_excel('../data/ibov_2006.xlsx',index_col=None)\n",
    "# print(\"número de linhas do Dataframe ibov_2022_2020:\",len(df_1))\n",
    "# print(\"número de linhas do Dataframe ibov_2019:     \",len(df_2))\n",
    "# print(\"número de linhas do Dataframe ibov_2018_2015:\",len(df_3))\n",
    "# print(\"número de linhas do Dataframe ibov_2014_2011:\",len(df_4))\n",
    "# print(\"número de linhas do Dataframe ibov_2010_2007:\",len(df_5))\n",
    "# print(\"número de linhas do Dataframe ibov_2005_2001:\",len(df_6))\n",
    "# print(\"número de linhas do Dataframe ibov_2006:\",len(df_7))\n",
    "universe = pd.read_csv('../data/ibov_universe.csv',index_col=None)\n",
    "universe = Portifolio(universe)\n",
    "df = universe.pre_processing()"
   ]
  },
  {
   "cell_type": "code",
   "execution_count": 3,
   "metadata": {},
   "outputs": [
    {
     "name": "stdout",
     "output_type": "stream",
     "text": [
      "número de linhas do Dataframe df: 1303\n"
     ]
    }
   ],
   "source": [
    "# df = pd.concat([df_1, df_2,df_3,df_4,df_5,df_6,df_7]).reset_index(drop=True)\n",
    "print(\"número de linhas do Dataframe df:\",len(df))"
   ]
  },
  {
   "attachments": {},
   "cell_type": "markdown",
   "metadata": {},
   "source": [
    "### Limpeza:"
   ]
  },
  {
   "attachments": {},
   "cell_type": "markdown",
   "metadata": {},
   "source": [
    "- Foram extraidos todas as ações que compõem o Índice *IBOV* no último dia útil de cada ano $2022$ -$2001$.\n",
    "- As ações foram filtradas para serem somente as Ordinárias *ON* de modo a representar um subconjunto representante do *IBOV*.\n",
    "- O Filtro de $PL>0$"
   ]
  },
  {
   "cell_type": "code",
   "execution_count": 4,
   "metadata": {},
   "outputs": [],
   "source": [
    "\n",
    "df['year'] = df['date'].dt.year"
   ]
  },
  {
   "cell_type": "code",
   "execution_count": 5,
   "metadata": {},
   "outputs": [
    {
     "data": {
      "image/png": "[encoded data removed]",
      "text/plain": [
       "<Figure size 1500x600 with 1 Axes>"
      ]
     },
     "metadata": {},
     "output_type": "display_data"
    }
   ],
   "source": [
    "plt.figure(figsize=(15,6)) # definindo o tamanho da figura\n",
    "df2 = df.groupby(['year'])['ticker'].size().reset_index(name='count')\n",
    "\n",
    "sns.barplot(data = df2, x='year', y='count',width=0.8)\n",
    "plt.xlabel('ano')\n",
    "plt.ylabel('Número de tickers')\n",
    "plt.show()\n"
   ]
  },
  {
   "attachments": {},
   "cell_type": "markdown",
   "metadata": {},
   "source": [
    "## Definir conjunto Universo das ações a compor Portifólios"
   ]
  },
  {
   "cell_type": "code",
   "execution_count": 10,
   "metadata": {},
   "outputs": [
    {
     "name": "stdout",
     "output_type": "stream",
     "text": [
      "Conjunto universo\n",
      "Tamanho do conjunto universo: 191\n",
      "Elementos do conjunto universo: ['ABEV3' 'ALPA4' 'AMER3' 'ARZZ3' 'ASAI3' 'AZUL4' 'B3SA3' 'BBAS3' 'BBDC3'\n",
      " 'BBDC4' 'BBSE3' 'BEEF3' 'BPAC11' 'BPAN4' 'BRAP4' 'BRFS3' 'BRML3' 'CASH3'\n",
      " 'CCRO3' 'CIEL3' 'CMIG4' 'CMIN3' 'COGN3' 'CPFE3' 'CRFB3' 'CSAN3' 'CSNA3'\n",
      " 'CVCB3' 'CYRE3' 'DXCO3' 'ECOR3' 'EGIE3' 'ELET3' 'EMBR3' 'ENBR3' 'ENEV3'\n",
      " 'ENGI11' 'EQTL3' 'EZTC3' 'FLRY3' 'GGBR4' 'GOAU4' 'GOLL4' 'HAPV3' 'HYPE3'\n",
      " 'IGTI11' 'IRBR3' 'ITSA4' 'ITUB4' 'JBSS3' 'KLBN11' 'LREN3' 'LWSA3' 'MGLU3'\n",
      " 'MRFG3' 'MRVE3' 'MULT3' 'NTCO3' 'PCAR3' 'PETR3' 'PETR4' 'PETZ3' 'POSI3'\n",
      " 'PRIO3' 'QUAL3' 'RADL3' 'RAIL3' 'RAIZ4' 'RDOR3' 'RENT3' 'RRRP3' 'SANB11'\n",
      " 'SBSP3' 'SLCE3' 'SMTO3' 'SOMA3' 'SUZB3' 'TAEE11' 'TIMS3' 'TOTS3' 'UGPA3'\n",
      " 'VALE3' 'VBBR3' 'VIIA3' 'VIVT3' 'WEGE3' 'YDUQ3' 'BIDI11' 'BIDI4' 'GETT11'\n",
      " 'GNDI3' 'JHSF3' 'LAME4' 'LCAM3' 'SULA11' 'BRDT3' 'BTOW3' 'HGTX3' 'IGTA3'\n",
      " 'VVAR3' 'PCAR4' 'SMLS3' 'TIMP3' 'VIVT4' 'ESTC3' 'FIBR3' 'KROT3' 'LOGG3'\n",
      " 'NATU3' 'BVMF3' 'CTIP3' 'RUMO3' 'SMLE3' 'BRPR3' 'OIBR3' 'TBLE3' 'ALLL3'\n",
      " 'CRUZ3' 'DTEX3' 'ELPL4' 'EVEN3' 'GFSA3' 'LIGT3' 'OIBR4' 'PDGR3' 'POMO4'\n",
      " 'RLOG3' 'RSID3' 'AEDU3' 'BISA3' 'DASA3' 'KLBN4' 'LLXL3' 'MMXM3' 'TRPL4'\n",
      " 'USIM3' 'VAGR3' 'AMBV4' 'OGXP3' 'BRTO4' 'RDCD3' 'TAMM4' 'TNLP3' 'TNLP4'\n",
      " 'ECOD3' 'PRTX3' 'TCSL3' 'TCSL4' 'TLPP4' 'UGPA4' 'VIVO4' 'ALLL11' 'BRTO3'\n",
      " 'NETC4' 'BNCA3' 'BRTP3' 'BRTP4' 'DURA4' 'ITAU4' 'PRGA3' 'SDIA4' 'UBBR11'\n",
      " 'VCPA4' 'ACES4' 'CCPR3' 'PTIP4' 'TMCP4' 'ARCE3' 'CESP4' 'CMET4' 'CTAX3'\n",
      " 'CTAX4' 'EBTP4' 'EMBR4' 'TCOC4' 'TLCP4' 'CSTB4' 'PLIM4' 'EBTP3' 'LIGH3'\n",
      " 'TNEP4' 'BRDT4' 'CMIG3' 'INEP4' 'BBAS4' 'TCSP3' 'TCSP4' 'TEPR4' 'BESP4'\n",
      " 'COGU4' 'TERJ4']\n"
     ]
    }
   ],
   "source": [
    "universe = df['ticker'].unique()\n",
    "print(\"Conjunto universo\")\n",
    "print(\"Tamanho do conjunto universo:\",len(universe))\n",
    "print(\"Elementos do conjunto universo:\",universe)\n",
    "# Conjunto universo\n",
    "# Salvar universo em um arquivo csv:\n",
    "df_universe = pd.DataFrame(universe,columns=['ticker'])\n",
    "df_universe.to_csv('../data/stocks/universe.csv',index=False)\n"
   ]
  },
  {
   "attachments": {},
   "cell_type": "markdown",
   "metadata": {},
   "source": [
    "O número de ações a ser analizado, e constituindo o conjunto universo é de 187 ações."
   ]
  },
  {
   "cell_type": "code",
   "execution_count": 11,
   "metadata": {},
   "outputs": [
    {
     "data": {
      "text/html": [
       "<div>\n",
       "<style scoped>\n",
       "    .dataframe tbody tr th:only-of-type {\n",
       "        vertical-align: middle;\n",
       "    }\n",
       "\n",
       "    .dataframe tbody tr th {\n",
       "        vertical-align: top;\n",
       "    }\n",
       "\n",
       "    .dataframe thead th {\n",
       "        text-align: right;\n",
       "    }\n",
       "</style>\n",
       "<table border=\"1\" class=\"dataframe\">\n",
       "  <thead>\n",
       "    <tr style=\"text-align: right;\">\n",
       "      <th></th>\n",
       "      <th>count</th>\n",
       "    </tr>\n",
       "  </thead>\n",
       "  <tbody>\n",
       "    <tr>\n",
       "      <th>count</th>\n",
       "      <td>191.000000</td>\n",
       "    </tr>\n",
       "    <tr>\n",
       "      <th>mean</th>\n",
       "      <td>6.821990</td>\n",
       "    </tr>\n",
       "    <tr>\n",
       "      <th>std</th>\n",
       "      <td>6.013996</td>\n",
       "    </tr>\n",
       "    <tr>\n",
       "      <th>min</th>\n",
       "      <td>1.000000</td>\n",
       "    </tr>\n",
       "    <tr>\n",
       "      <th>25%</th>\n",
       "      <td>2.000000</td>\n",
       "    </tr>\n",
       "    <tr>\n",
       "      <th>50%</th>\n",
       "      <td>5.000000</td>\n",
       "    </tr>\n",
       "    <tr>\n",
       "      <th>75%</th>\n",
       "      <td>10.000000</td>\n",
       "    </tr>\n",
       "    <tr>\n",
       "      <th>max</th>\n",
       "      <td>23.000000</td>\n",
       "    </tr>\n",
       "  </tbody>\n",
       "</table>\n",
       "</div>"
      ],
      "text/plain": [
       "            count\n",
       "count  191.000000\n",
       "mean     6.821990\n",
       "std      6.013996\n",
       "min      1.000000\n",
       "25%      2.000000\n",
       "50%      5.000000\n",
       "75%     10.000000\n",
       "max     23.000000"
      ]
     },
     "execution_count": 11,
     "metadata": {},
     "output_type": "execute_result"
    },
    {
     "data": {
      "text/plain": [
       "<Figure size 1500x600 with 0 Axes>"
      ]
     },
     "metadata": {},
     "output_type": "display_data"
    }
   ],
   "source": [
    "# analisando a quantidade de anos que cada ação aparece\n",
    "plt.figure(figsize=(15,6)) # definindo o tamanho da figura\n",
    "\n",
    "quantidade = df.groupby('ticker')['year'].size().reset_index(name='count')\n",
    "\n",
    "quantidade.describe()\n",
    "# sns.barplot(data = quantidade.loc[quantidade['count'] < 10], x='TICKER', y='count',width=0.4)\n",
    "# plt.xlabel('TICKER')\n",
    "# plt.ylabel('Quantidade de Anos')\n",
    "# plt.show()"
   ]
  },
  {
   "attachments": {},
   "cell_type": "markdown",
   "metadata": {},
   "source": [
    "A mediana do Conjunto de ações é 4 anos no índice. Isso é devido ao fato de certas empresas pederem relevância, Fecharem capital, declararem falência, ou trocarem de TICKER."
   ]
  },
  {
   "cell_type": "code",
   "execution_count": 13,
   "metadata": {},
   "outputs": [
    {
     "data": {
      "text/html": [
       "<div>\n",
       "<style scoped>\n",
       "    .dataframe tbody tr th:only-of-type {\n",
       "        vertical-align: middle;\n",
       "    }\n",
       "\n",
       "    .dataframe tbody tr th {\n",
       "        vertical-align: top;\n",
       "    }\n",
       "\n",
       "    .dataframe thead th {\n",
       "        text-align: right;\n",
       "    }\n",
       "</style>\n",
       "<table border=\"1\" class=\"dataframe\">\n",
       "  <thead>\n",
       "    <tr style=\"text-align: right;\">\n",
       "      <th></th>\n",
       "      <th>ticker</th>\n",
       "      <th>name</th>\n",
       "      <th>date</th>\n",
       "      <th>net_worth</th>\n",
       "      <th>qnt</th>\n",
       "      <th>ebit12m</th>\n",
       "      <th>closed_price</th>\n",
       "      <th>ativo_total</th>\n",
       "      <th>fator_cotacao</th>\n",
       "      <th>ret12m</th>\n",
       "      <th>...</th>\n",
       "      <th>ret3m</th>\n",
       "      <th>ret1m</th>\n",
       "      <th>liq_corr</th>\n",
       "      <th>vol12m</th>\n",
       "      <th>vol6m</th>\n",
       "      <th>vol3m</th>\n",
       "      <th>vol1m</th>\n",
       "      <th>entreprise_value</th>\n",
       "      <th>mkt_value</th>\n",
       "      <th>year</th>\n",
       "    </tr>\n",
       "  </thead>\n",
       "  <tbody>\n",
       "    <tr>\n",
       "      <th>17</th>\n",
       "      <td>CASH3</td>\n",
       "      <td>MELIUZ</td>\n",
       "      <td>2022-12-29</td>\n",
       "      <td>7.901900e+08</td>\n",
       "      <td>8.651804e+08</td>\n",
       "      <td>-155632000</td>\n",
       "      <td>1.18</td>\n",
       "      <td>1.247034e+09</td>\n",
       "      <td>1</td>\n",
       "      <td>-63.580247</td>\n",
       "      <td>...</td>\n",
       "      <td>4.424779</td>\n",
       "      <td>5.357143</td>\n",
       "      <td>2.202613</td>\n",
       "      <td>70.526479</td>\n",
       "      <td>70.529368</td>\n",
       "      <td>67.957274</td>\n",
       "      <td>62.026514</td>\n",
       "      <td>2.708476e+08</td>\n",
       "      <td>1.020611e+09</td>\n",
       "      <td>2022</td>\n",
       "    </tr>\n",
       "    <tr>\n",
       "      <th>53</th>\n",
       "      <td>MGLU3</td>\n",
       "      <td>MAGAZ LUIZA</td>\n",
       "      <td>2022-12-29</td>\n",
       "      <td>1.029069e+10</td>\n",
       "      <td>6.748927e+09</td>\n",
       "      <td>753417000</td>\n",
       "      <td>2.74</td>\n",
       "      <td>3.421657e+10</td>\n",
       "      <td>1</td>\n",
       "      <td>-62.049861</td>\n",
       "      <td>...</td>\n",
       "      <td>-38.839286</td>\n",
       "      <td>-19.648094</td>\n",
       "      <td>1.422139</td>\n",
       "      <td>82.484404</td>\n",
       "      <td>90.314571</td>\n",
       "      <td>87.037168</td>\n",
       "      <td>82.241451</td>\n",
       "      <td>2.353393e+10</td>\n",
       "      <td>1.849206e+10</td>\n",
       "      <td>2022</td>\n",
       "    </tr>\n",
       "    <tr>\n",
       "      <th>105</th>\n",
       "      <td>CASH3</td>\n",
       "      <td>MELIUZ</td>\n",
       "      <td>2021-12-29</td>\n",
       "      <td>7.901900e+08</td>\n",
       "      <td>8.651804e+08</td>\n",
       "      <td>-155632000</td>\n",
       "      <td>3.01</td>\n",
       "      <td>1.247034e+09</td>\n",
       "      <td>1</td>\n",
       "      <td>20.454653</td>\n",
       "      <td>...</td>\n",
       "      <td>-49.916805</td>\n",
       "      <td>0.668896</td>\n",
       "      <td>2.202613</td>\n",
       "      <td>99.142723</td>\n",
       "      <td>103.334579</td>\n",
       "      <td>115.751335</td>\n",
       "      <td>153.712562</td>\n",
       "      <td>1.872971e+09</td>\n",
       "      <td>2.418830e+09</td>\n",
       "      <td>2021</td>\n",
       "    </tr>\n",
       "    <tr>\n",
       "      <th>145</th>\n",
       "      <td>MGLU3</td>\n",
       "      <td>MAGAZ LUIZA</td>\n",
       "      <td>2021-12-29</td>\n",
       "      <td>1.029069e+10</td>\n",
       "      <td>6.748927e+09</td>\n",
       "      <td>753417000</td>\n",
       "      <td>6.76</td>\n",
       "      <td>3.421657e+10</td>\n",
       "      <td>1</td>\n",
       "      <td>-72.886162</td>\n",
       "      <td>...</td>\n",
       "      <td>-52.859135</td>\n",
       "      <td>-13.333333</td>\n",
       "      <td>1.422139</td>\n",
       "      <td>55.727170</td>\n",
       "      <td>67.702094</td>\n",
       "      <td>86.034776</td>\n",
       "      <td>85.518233</td>\n",
       "      <td>4.536237e+10</td>\n",
       "      <td>4.511575e+10</td>\n",
       "      <td>2021</td>\n",
       "    </tr>\n",
       "    <tr>\n",
       "      <th>223</th>\n",
       "      <td>MGLU3</td>\n",
       "      <td>MAGAZ LUIZA</td>\n",
       "      <td>2020-12-29</td>\n",
       "      <td>1.029069e+10</td>\n",
       "      <td>6.748927e+09</td>\n",
       "      <td>753417000</td>\n",
       "      <td>25.28</td>\n",
       "      <td>3.421657e+10</td>\n",
       "      <td>1</td>\n",
       "      <td>112.390915</td>\n",
       "      <td>...</td>\n",
       "      <td>13.363229</td>\n",
       "      <td>8.126604</td>\n",
       "      <td>1.422139</td>\n",
       "      <td>69.663858</td>\n",
       "      <td>40.343719</td>\n",
       "      <td>39.277999</td>\n",
       "      <td>36.206976</td>\n",
       "      <td>1.630524e+11</td>\n",
       "      <td>1.642929e+11</td>\n",
       "      <td>2020</td>\n",
       "    </tr>\n",
       "    <tr>\n",
       "      <th>290</th>\n",
       "      <td>MGLU3</td>\n",
       "      <td>MAGAZ LUIZA</td>\n",
       "      <td>2019-12-27</td>\n",
       "      <td>1.029069e+10</td>\n",
       "      <td>6.748927e+09</td>\n",
       "      <td>753417000</td>\n",
       "      <td>48.73</td>\n",
       "      <td>3.421657e+10</td>\n",
       "      <td>1</td>\n",
       "      <td>116.911066</td>\n",
       "      <td>...</td>\n",
       "      <td>31.813140</td>\n",
       "      <td>6.864035</td>\n",
       "      <td>1.422139</td>\n",
       "      <td>41.048738</td>\n",
       "      <td>41.103659</td>\n",
       "      <td>38.532704</td>\n",
       "      <td>20.260363</td>\n",
       "      <td>7.498575e+10</td>\n",
       "      <td>7.430018e+10</td>\n",
       "      <td>2019</td>\n",
       "    </tr>\n",
       "    <tr>\n",
       "      <th>353</th>\n",
       "      <td>MGLU3</td>\n",
       "      <td>MAGAZ LUIZA</td>\n",
       "      <td>2018-12-28</td>\n",
       "      <td>1.029069e+10</td>\n",
       "      <td>6.748927e+09</td>\n",
       "      <td>753417000</td>\n",
       "      <td>181.07</td>\n",
       "      <td>3.421657e+10</td>\n",
       "      <td>1</td>\n",
       "      <td>126.339120</td>\n",
       "      <td>...</td>\n",
       "      <td>47.655549</td>\n",
       "      <td>5.740481</td>\n",
       "      <td>1.422139</td>\n",
       "      <td>47.959359</td>\n",
       "      <td>45.600713</td>\n",
       "      <td>45.353680</td>\n",
       "      <td>33.236449</td>\n",
       "      <td>3.441544e+10</td>\n",
       "      <td>3.451040e+10</td>\n",
       "      <td>2018</td>\n",
       "    </tr>\n",
       "  </tbody>\n",
       "</table>\n",
       "<p>7 rows × 21 columns</p>\n",
       "</div>"
      ],
      "text/plain": [
       "    ticker         name       date     net_worth           qnt    ebit12m  \\\n",
       "17   CASH3       MELIUZ 2022-12-29  7.901900e+08  8.651804e+08 -155632000   \n",
       "53   MGLU3  MAGAZ LUIZA 2022-12-29  1.029069e+10  6.748927e+09  753417000   \n",
       "105  CASH3       MELIUZ 2021-12-29  7.901900e+08  8.651804e+08 -155632000   \n",
       "145  MGLU3  MAGAZ LUIZA 2021-12-29  1.029069e+10  6.748927e+09  753417000   \n",
       "223  MGLU3  MAGAZ LUIZA 2020-12-29  1.029069e+10  6.748927e+09  753417000   \n",
       "290  MGLU3  MAGAZ LUIZA 2019-12-27  1.029069e+10  6.748927e+09  753417000   \n",
       "353  MGLU3  MAGAZ LUIZA 2018-12-28  1.029069e+10  6.748927e+09  753417000   \n",
       "\n",
       "     closed_price   ativo_total  fator_cotacao      ret12m  ...      ret3m  \\\n",
       "17           1.18  1.247034e+09              1  -63.580247  ...   4.424779   \n",
       "53           2.74  3.421657e+10              1  -62.049861  ... -38.839286   \n",
       "105          3.01  1.247034e+09              1   20.454653  ... -49.916805   \n",
       "145          6.76  3.421657e+10              1  -72.886162  ... -52.859135   \n",
       "223         25.28  3.421657e+10              1  112.390915  ...  13.363229   \n",
       "290         48.73  3.421657e+10              1  116.911066  ...  31.813140   \n",
       "353        181.07  3.421657e+10              1  126.339120  ...  47.655549   \n",
       "\n",
       "         ret1m  liq_corr     vol12m       vol6m       vol3m       vol1m  \\\n",
       "17    5.357143  2.202613  70.526479   70.529368   67.957274   62.026514   \n",
       "53  -19.648094  1.422139  82.484404   90.314571   87.037168   82.241451   \n",
       "105   0.668896  2.202613  99.142723  103.334579  115.751335  153.712562   \n",
       "145 -13.333333  1.422139  55.727170   67.702094   86.034776   85.518233   \n",
       "223   8.126604  1.422139  69.663858   40.343719   39.277999   36.206976   \n",
       "290   6.864035  1.422139  41.048738   41.103659   38.532704   20.260363   \n",
       "353   5.740481  1.422139  47.959359   45.600713   45.353680   33.236449   \n",
       "\n",
       "     entreprise_value     mkt_value  year  \n",
       "17       2.708476e+08  1.020611e+09  2022  \n",
       "53       2.353393e+10  1.849206e+10  2022  \n",
       "105      1.872971e+09  2.418830e+09  2021  \n",
       "145      4.536237e+10  4.511575e+10  2021  \n",
       "223      1.630524e+11  1.642929e+11  2020  \n",
       "290      7.498575e+10  7.430018e+10  2019  \n",
       "353      3.441544e+10  3.451040e+10  2018  \n",
       "\n",
       "[7 rows x 21 columns]"
      ]
     },
     "execution_count": 13,
     "metadata": {},
     "output_type": "execute_result"
    }
   ],
   "source": [
    "df.loc[df[\"ticker\"].isin(['CASH3','MGLU3'])]"
   ]
  },
  {
   "cell_type": "code",
   "execution_count": 21,
   "metadata": {},
   "outputs": [
    {
     "data": {
      "text/html": [
       "<div>\n",
       "<style scoped>\n",
       "    .dataframe tbody tr th:only-of-type {\n",
       "        vertical-align: middle;\n",
       "    }\n",
       "\n",
       "    .dataframe tbody tr th {\n",
       "        vertical-align: top;\n",
       "    }\n",
       "\n",
       "    .dataframe thead th {\n",
       "        text-align: right;\n",
       "    }\n",
       "</style>\n",
       "<table border=\"1\" class=\"dataframe\">\n",
       "  <thead>\n",
       "    <tr style=\"text-align: right;\">\n",
       "      <th></th>\n",
       "      <th>TICKER</th>\n",
       "    </tr>\n",
       "  </thead>\n",
       "  <tbody>\n",
       "    <tr>\n",
       "      <th>0</th>\n",
       "      <td>ABEV3</td>\n",
       "    </tr>\n",
       "    <tr>\n",
       "      <th>1</th>\n",
       "      <td>ALPA4</td>\n",
       "    </tr>\n",
       "    <tr>\n",
       "      <th>2</th>\n",
       "      <td>ALSO3</td>\n",
       "    </tr>\n",
       "    <tr>\n",
       "      <th>3</th>\n",
       "      <td>ARZZ3</td>\n",
       "    </tr>\n",
       "    <tr>\n",
       "      <th>4</th>\n",
       "      <td>ASAI3</td>\n",
       "    </tr>\n",
       "    <tr>\n",
       "      <th>...</th>\n",
       "      <td>...</td>\n",
       "    </tr>\n",
       "    <tr>\n",
       "      <th>83</th>\n",
       "      <td>VBBR3</td>\n",
       "    </tr>\n",
       "    <tr>\n",
       "      <th>84</th>\n",
       "      <td>VIIA3</td>\n",
       "    </tr>\n",
       "    <tr>\n",
       "      <th>85</th>\n",
       "      <td>VIVT3</td>\n",
       "    </tr>\n",
       "    <tr>\n",
       "      <th>86</th>\n",
       "      <td>WEGE3</td>\n",
       "    </tr>\n",
       "    <tr>\n",
       "      <th>87</th>\n",
       "      <td>YDUQ3</td>\n",
       "    </tr>\n",
       "  </tbody>\n",
       "</table>\n",
       "<p>88 rows × 1 columns</p>\n",
       "</div>"
      ],
      "text/plain": [
       "   TICKER\n",
       "0   ABEV3\n",
       "1   ALPA4\n",
       "2   ALSO3\n",
       "3   ARZZ3\n",
       "4   ASAI3\n",
       "..    ...\n",
       "83  VBBR3\n",
       "84  VIIA3\n",
       "85  VIVT3\n",
       "86  WEGE3\n",
       "87  YDUQ3\n",
       "\n",
       "[88 rows x 1 columns]"
      ]
     },
     "execution_count": 21,
     "metadata": {},
     "output_type": "execute_result"
    }
   ],
   "source": [
    "ibov_hj = pd.read_excel('../data/ibov_2023.xlsx',index_col=None)\n",
    "# quant_ibov_hj = ibov_hj.groupby('TICKER')['data_analise'].size().reset_index(name='count')\n",
    "ibov_hj"
   ]
  },
  {
   "cell_type": "code",
   "execution_count": null,
   "metadata": {},
   "outputs": [],
   "source": [
    "# Vamos ver a distribuição dos anos em que cada ação do IBOV fica:\n",
    "plt.figure(figsize=(15,6)) # definindo o tamanho da figura\n",
    "\n",
    "cont_anos = quant_ibov_hj.groupby('count')['TICKER'].size().reset_index(name='Quantidade')\n",
    "sns.barplot(cont_anos,x = 'count',y='Quantidade')\n",
    "plt.xlabel('Ano')\n",
    "plt.ylabel('Número de tickers')\n",
    "plt.show()"
   ]
  },
  {
   "attachments": {},
   "cell_type": "markdown",
   "metadata": {},
   "source": [
    "Observe que a maioria ficou menos de 5 anos, e uma quantidade razoável ficou por 20 anos (bluechips)"
   ]
  },
  {
   "cell_type": "code",
   "execution_count": null,
   "metadata": {},
   "outputs": [],
   "source": [
    "df"
   ]
  },
  {
   "cell_type": "code",
   "execution_count": null,
   "metadata": {},
   "outputs": [],
   "source": [
    "array = [df[\"TICKER\"].unique(), df[\"Data da Análise\"].unique()]\n",
    "# all columns, but the ones in array"
   ]
  },
  {
   "cell_type": "code",
   "execution_count": null,
   "metadata": {},
   "outputs": [],
   "source": [
    "df2 = df.set_index([\"Data da Análise\",\"TICKER\"]).sort_index()\n",
    "df2.head(10)"
   ]
  },
  {
   "cell_type": "code",
   "execution_count": null,
   "metadata": {},
   "outputs": [],
   "source": [
    "# VM = Valor de mercado\n",
    "# Queremos filtar para cada data da análise as ações com maior valor de mercado no periodo (25% superior)\n",
    "\n",
    "\n",
    "\n"
   ]
  },
  {
   "cell_type": "code",
   "execution_count": null,
   "metadata": {},
   "outputs": [],
   "source": [
    "#just the first date:\n",
    "df2.loc[df2.index.get_level_values(0) == '27/12/2013']"
   ]
  },
  {
   "cell_type": "code",
   "execution_count": null,
   "metadata": {},
   "outputs": [],
   "source": [
    "df.loc[df[\"Data da Análise\"] == '27/12/2013']"
   ]
  },
  {
   "cell_type": "code",
   "execution_count": null,
   "metadata": {},
   "outputs": [],
   "source": [
    "subset = df.groupby('Data da Análise').apply(lambda x: x.nlargest(10, 'VM')).reset_index(drop=True)\n",
    "subset.head()"
   ]
  },
  {
   "cell_type": "code",
   "execution_count": null,
   "metadata": {},
   "outputs": [],
   "source": [
    "subset"
   ]
  },
  {
   "cell_type": "code",
   "execution_count": null,
   "metadata": {},
   "outputs": [],
   "source": [
    "subset.loc[subset[\"Data da Análise\"] == '29/12/2021']"
   ]
  },
  {
   "cell_type": "code",
   "execution_count": null,
   "metadata": {},
   "outputs": [],
   "source": [
    "df[\"Data da Análise\"].unique()"
   ]
  },
  {
   "cell_type": "code",
   "execution_count": null,
   "metadata": {},
   "outputs": [],
   "source": []
  }
 ],
 "metadata": {
  "colab": {
   "provenance": []
  },
  "kernelspec": {
   "display_name": "Python 3 (ipykernel)",
   "language": "python",
   "name": "python3"
  },
  "language_info": {
   "codemirror_mode": {
    "name": "ipython",
    "version": 3
   },
   "file_extension": ".py",
   "mimetype": "text/x-python",
   "name": "python",
   "nbconvert_exporter": "python",
   "pygments_lexer": "ipython3",
   "version": "3.11.2"
  }
 },
 "nbformat": 4,
 "nbformat_minor": 1
}
