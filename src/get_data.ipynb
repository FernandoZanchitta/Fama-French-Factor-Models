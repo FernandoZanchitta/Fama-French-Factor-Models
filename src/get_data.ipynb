{
 "cells": [
  {
   "cell_type": "code",
   "execution_count": null,
   "metadata": {},
   "outputs": [],
   "source": [
    "import json\n",
    "import api_comdinheiro.financial_data as fd\n",
    "import pandas as pd\n",
    "import requests\n",
    "from tqdm import tqdm"
   ]
  },
  {
   "cell_type": "code",
   "execution_count": null,
   "metadata": {},
   "outputs": [],
   "source": [
    "data_analise = ['29/12/2022', '29/12/2021', '29/12/2020', '27/12/2019',\n",
    "       '28/12/2018', '28/12/2017', '28/12/2016', '28/12/2015',\n",
    "       '29/12/2014', '27/12/2013', '28/12/2012', '29/12/2011',\n",
    "       '30/12/2010', '30/12/2009', '30/12/2008', '28/12/2007', '28/12/2006',\n",
    "       '29/12/2005', '30/12/2004', '30/12/2003',\"30/12/2002\",\"28/12/2001\",\"27/12/2000\"]\n",
    "ibov = fd.get_ibov(data_analise)"
   ]
  },
  {
   "cell_type": "code",
   "execution_count": null,
   "metadata": {},
   "outputs": [],
   "source": [
    "ibov['data_da_analise'].unique()    "
   ]
  },
  {
   "cell_type": "code",
   "execution_count": null,
   "metadata": {},
   "outputs": [],
   "source": []
  }
 ],
 "metadata": {
  "kernelspec": {
   "display_name": "Python 3",
   "language": "python",
   "name": "python3"
  },
  "language_info": {
   "codemirror_mode": {
    "name": "ipython",
    "version": 3
   },
   "file_extension": ".py",
   "mimetype": "text/x-python",
   "name": "python",
   "nbconvert_exporter": "python",
   "pygments_lexer": "ipython3",
   "version": "3.11.2"
  },
  "orig_nbformat": 4
 },
 "nbformat": 4,
 "nbformat_minor": 2
}
