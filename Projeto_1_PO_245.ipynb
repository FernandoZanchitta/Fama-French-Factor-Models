{
 "cells": [
  {
   "cell_type": "markdown",
   "metadata": {
    "id": "tGU4XXuJWzf4"
   },
   "source": [
    "# Abordagem de Modelo Fama e French 3- e 5-Fatores aplicado no Mercado de Ações Brasileiro. \n",
    "\n",
    "## Formalização do Problema:\n",
    "### Contexto\n",
    "A validade dos modelos de CAPM (Modelo de Precificação de ativos) proposto por Sharpe (1964) e Linter(1965) aplicados ao cenário de Finanças Moderno vem sofrendo bastante críticas, e vários modelos alternativos de precificação de ativos foram propostos. Esses modelos tentam capturar a relação risco retorno e explicar os dados de corte transversal da média dos retornos das ações. Entretanto, a maioria dos modelos não consegue ser capturar as relações corretas das anomalias nos testes empiricos.\n",
    "\n",
    "Trabalhos anteriores determinaram ,empiricamente, a significância estatística das variáveis:Tamanho  (*Market Capitalization*), *Book-to-Market* (*B/M*), Investimentos(*Capex*) e Lucro Operacional (*EBITDA)*. Banz (1981) encontrou relações do tamanho das empresas que indicam que empresas menores tendem a ter, na média, retornos maiores. Fama e French (1992) determinou o efeito do valor, representado pelo indicador *Book-to-Market*, e estabelece uma relação positiva entre essa variável e o retorno. Titman, Wei and Xie (2004) mostram que empresas que aumentam seus investimento em capital tendem a ter um retorno ajustado ao risco negativo no futuro.\n",
    "Por fim, Novy-Marx(2013) desenvolve que há uma relação positiva entre empresas lucrativas e retornos esperados.\n",
    "\n",
    "Para determinar se as variáveis acima possuem fatores explicativos necessários, é necessário testar a habilidade de prever retornos ajustados ao risco. Com isso, testes foram feitos de forma a consolidar uma metodologia que gera um modelo de precificação de ativos baseados em fatores, como o modelo de 3 Fatores (Fama e French, 1993).\n",
    "\n",
    "Após 30 anos, o Modelo de 3 fatores tornou-se extremamente consolidado e ganhou muita atenção pela sua capacidade de gerar um retornos acumulados acima do que o tradicional CAPM gerava, para o mercado americano, principalmente no período de 1963-1993. Os autores encotraram um intercepto estatisticamente igual a zero para a regressão, usando os Fatores: Risco, Tamanho e Valor.\n",
    "\n",
    "Outros modelos surgiram com o passar dos anos, na medida que o tradicional FF3F perdia capacidade de explicar retornos e anomalias de Mercado. Assim os autores propuseram a abordagem de 5 Fatores (2014) que inclui as outras duas variáveis mencionadas acima (Investimento e Lucratividade). O modelo *FF5F* encontrou resultados superiores ao FF3F e soube capturar melhor a variação do retorno dos ativos e anomalias de mercado.\n",
    "### Problema\n",
    "O problema envolve a avaliação desse modelo no cenário do Mercado de Ações brasileiro sob a perspectiva do retorno acumulado do portifólio selecionado (*Backtesting*), análise de *Drawdown* e *Sharpe*.Além disso, propor uma comparação do modelo atual de Regressão linear frente a uma alternativa de abordagem utilizando algoritmos de Machine Learning.\n",
    "\n",
    "## Objetivo\n",
    "- implementar os modelos de FF5F e FF3F tradicionais com o conjunto de dados do Mercado brasileiro, e gerar as carteiras dentro dos períodos\n",
    "- Implementar os modelos FF5F e FF3F com o algoritmo de *Bayesian optimization-support vector regression* (BSVR)\n",
    "- Realizar o Backtesting, Análise de Sharpe e Drawndown para validar melhor estratégia aplicada ao cenário Brasileiro.\n",
    "\n",
    "## Revisão bibliográfica:\n",
    "### Artigos\n",
    "Os seguintes artigos abordam problemas parecidos:\n",
    "- Fama, Eugene F. and French, Kenneth R., A Five-Factor Asset Pricing Model (September 2014). Fama-Miller Working Paper, Available at SSRN: https://ssrn.com/abstract=2287202 or http://dx.doi.org/10.2139/ssrn.2287202\n",
    "\n",
    "- Dirkx, P., Peter, F.J. The Fama-French Five-Factor Model Plus Momentum: Evidence for the German Market. Schmalenbach Bus Rev 72, 661–684 (2020). \n",
    "https://link.springer.com/article/10.1007/s41464-020-00105-y#Abs1\n",
    "\n",
    "- Clarice, C. M. Pricing Assets with Fama and French 5-Factor Model: a Brazilian market novelty. 2015. https://www.researchgate.net/publication/277020668_Pricing_Assets_with_Fama_and_French_5-Factor_Model_a_Brazilian_market_novelty\n",
    "\n",
    "- Leonardo,T. B. S.,MODELO DE CINCO FATORES FAMA-FRENCH: TESTE NO MERCADO BRASILIEIRO. 2019 https://bibliotecadigital.fgv.br/dspace/bitstream/handle/10438/27937/DISSERTAÇÃO_MPE_LEONARDO%20TADEU%20BIONDO%20SILVA.pdf?sequence=5&isAllowed=y\n",
    "\n",
    "- Diallo, Boubacar and Bagudu, Aliyu and Zhang, Qi, A Machine Learning Approach to the Fama-French Three- and Five-Factor Models (August 21, 2019). Available at SSRN: https://ssrn.com/abstract=3440840 or http://dx.doi.org/10.2139/ssrn.3440840\n",
    "\n",
    "- Bui Thanh Khoa, Tran Trong Huynh, \"Long Short-Term Memory Recurrent Neural Network for Predicting the Return of Rate Underframe the Fama-French 5 Factor\", Discrete Dynamics in Nature and Society, vol. 2022, Article ID 3936122, 8 pages, 2022. https://doi.org/10.1155/2022/3936122\n",
    "\n",
    "- https://medium.com/the-handbook-of-coding-in-finance/estimating-stock-returns-with-fama-french-three-factor-model-in-python-1a98e3936859\n",
    "\n",
    "### Repositórios:\n",
    "- https://github.com/omartinsky/FamaFrench\n",
    "\n",
    "- https://github.com/ioannisrpt/FamaFrench2015FF5\n",
    "\n",
    "- https://github.com/teal0range/FF5\n",
    "\n",
    "- \n",
    "## Base de Dados:\n",
    "A Base de Dados utilizada foi provida pela ComDinheiro, contendo as Ações do índice IFIX (*Data-Ação-Abertura-Alto-Baixo-Fechamento-Volume*).\n",
    "As variáveis necessárias para cálcular os modelos trádicionais de Fatores.\n",
    "\n"
   ]
  },
  {
   "cell_type": "markdown",
   "metadata": {
    "id": "YVhGMgRKt0Ib"
   },
   "source": [
    "# Fama French\n",
    "\n",
    "\n",
    "\n",
    "\n",
    "$r = R_f +b_m \\cdot MER + b_s \\cdot SMB + b_v \\cdot HML + b_p \\cdot RMW + b_i \\cdot CMA$\n",
    "\n",
    "$r$ is expected portifolio return\n",
    "$b_m,b_s,b_v,b_p,b_i$ are factor sensitivities.\n",
    "\n",
    "## Factors Analysis\n",
    "- *MER*: excess return of a broad market over the risk-free rate ($ R_m−R_f $ ) (market factor) \n",
    "- *SMB* : average return on the small stock portfolios minus big stock portfolios (size factor).\n",
    "\n",
    "- *HML*: average return on high book value portfolios minus low book value (value factor).\n",
    "- *RMW* : the average return on robust minus weak operating profitability portfolios (profitability factor).\n",
    "\n",
    "- *CMA* : Conservative minus aggresive investments, proxied by the y/y growth in company asset value (investment factor).\n",
    "\n",
    "Definitions: https://mba.tuck.dartmouth.edu/pages/faculty/ken.french/Data_Library/f-f_5_factors_2x3.html"
   ]
  },
  {
   "cell_type": "markdown",
   "metadata": {},
   "source": [
    "### Bibliotecas:"
   ]
  },
  {
   "cell_type": "code",
   "execution_count": 1,
   "metadata": {
    "id": "E1kCT2LJnQ2N"
   },
   "outputs": [
    {
     "ename": "ModuleNotFoundError",
     "evalue": "No module named 'pandas'",
     "output_type": "error",
     "traceback": [
      "\u001b[0;31m---------------------------------------------------------------------------\u001b[0m",
      "\u001b[0;31mModuleNotFoundError\u001b[0m                       Traceback (most recent call last)",
      "Cell \u001b[0;32mIn[1], line 1\u001b[0m\n\u001b[0;32m----> 1\u001b[0m \u001b[39mimport\u001b[39;00m \u001b[39mpandas\u001b[39;00m \u001b[39mas\u001b[39;00m \u001b[39mpd\u001b[39;00m\n\u001b[1;32m      2\u001b[0m \u001b[39mimport\u001b[39;00m \u001b[39mseaborn\u001b[39;00m \u001b[39mas\u001b[39;00m \u001b[39msns\u001b[39;00m\n\u001b[1;32m      3\u001b[0m \u001b[39mimport\u001b[39;00m \u001b[39mmatplotlib\u001b[39;00m\u001b[39m.\u001b[39;00m\u001b[39mpyplot\u001b[39;00m \u001b[39mas\u001b[39;00m \u001b[39mplt\u001b[39;00m\n",
      "\u001b[0;31mModuleNotFoundError\u001b[0m: No module named 'pandas'"
     ]
    }
   ],
   "source": [
    "import pandas as pd\n",
    "import seaborn as sns\n",
    "import matplotlib.pyplot as plt"
   ]
  },
  {
   "cell_type": "markdown",
   "metadata": {},
   "source": [
    "### Aquisição dos dados"
   ]
  },
  {
   "cell_type": "code",
   "execution_count": 83,
   "metadata": {},
   "outputs": [
    {
     "name": "stdout",
     "output_type": "stream",
     "text": [
      "número de linhas do Dataframe ibov_2022_2020: 249\n",
      "número de linhas do Dataframe ibov_2019:      65\n",
      "número de linhas do Dataframe ibov_2018_2015: 227\n",
      "número de linhas do Dataframe ibov_2014_2011: 250\n",
      "número de linhas do Dataframe ibov_2010_2007: 239\n",
      "número de linhas do Dataframe ibov_2005_2001: 119\n",
      "número de linhas do Dataframe ibov_2006: 43\n"
     ]
    }
   ],
   "source": [
    "df_1 = pd.read_excel('data/ibov_2022_2020.xlsx',index_col=None)\n",
    "df_2 = pd.read_excel('data/ibov_2019.xlsx',index_col=None)\n",
    "df_3 = pd.read_excel('data/ibov_2018_2015.xlsx',index_col=None)\n",
    "df_4 = pd.read_excel('data/ibov_2014_2011.xlsx',index_col=None)\n",
    "df_5 = pd.read_excel('data/ibov_2010_2007.xlsx',index_col=None)\n",
    "df_6 = pd.read_excel('data/ibov_2005_2001.xlsx',index_col=None)\n",
    "df_7 = pd.read_excel('data/ibov_2006.xlsx',index_col=None)\n",
    "print(\"número de linhas do Dataframe ibov_2022_2020:\",len(df_1))\n",
    "print(\"número de linhas do Dataframe ibov_2019:     \",len(df_2))\n",
    "print(\"número de linhas do Dataframe ibov_2018_2015:\",len(df_3))\n",
    "print(\"número de linhas do Dataframe ibov_2014_2011:\",len(df_4))\n",
    "print(\"número de linhas do Dataframe ibov_2010_2007:\",len(df_5))\n",
    "print(\"número de linhas do Dataframe ibov_2005_2001:\",len(df_6))\n",
    "print(\"número de linhas do Dataframe ibov_2006:\",len(df_7))"
   ]
  },
  {
   "cell_type": "code",
   "execution_count": 84,
   "metadata": {},
   "outputs": [
    {
     "name": "stdout",
     "output_type": "stream",
     "text": [
      "número de linhas do Dataframe df: 1192\n"
     ]
    }
   ],
   "source": [
    "df = pd.concat([df_1, df_2,df_3,df_4,df_5,df_6,df_7]).reset_index(drop=True)\n",
    "print(\"número de linhas do Dataframe df:\",len(df))"
   ]
  },
  {
   "cell_type": "code",
   "execution_count": 85,
   "metadata": {},
   "outputs": [
    {
     "data": {
      "text/plain": [
       "Index(['TICKER', 'Nome da Empresa', 'Data da Análise',\n",
       "       'Patrimônio Líquido\\n\\n', 'QUANT_ON_PN', 'EBIT\\n12 meses\\n\\n',\n",
       "       'QUANT_ON_PN.1', 'Preço de Fechamento', 'Ativo Total\\n\\n',\n",
       "       'FATOR_COTACAO'],\n",
       "      dtype='object')"
      ]
     },
     "execution_count": 85,
     "metadata": {},
     "output_type": "execute_result"
    }
   ],
   "source": [
    "df.columns"
   ]
  },
  {
   "cell_type": "markdown",
   "metadata": {},
   "source": [
    "### Limpeza:"
   ]
  },
  {
   "cell_type": "markdown",
   "metadata": {},
   "source": [
    "- Foram extraidos todas as ações que compõem o Índice *IBOV* no último dia útil de cada ano $2022$ -$2001$.\n",
    "- As ações foram filtradas para serem somente as Ordinárias *ON* de modo a representar um subconjunto representante do *IBOV*.\n",
    "- O Filtro de $PL>0$"
   ]
  },
  {
   "cell_type": "code",
   "execution_count": 86,
   "metadata": {},
   "outputs": [],
   "source": [
    "# Convertendo a coluna \"data\" para o formato de data\n",
    "df['data'] = pd.to_datetime(df['Data da Análise'], format='%d/%m/%Y')\n",
    "# Criando uma nova coluna com o ano\n",
    "df['ano'] = df['data'].dt.year\n",
    "df['ano_str'] = df['ano'].astype(str)"
   ]
  },
  {
   "cell_type": "code",
   "execution_count": 87,
   "metadata": {},
   "outputs": [
    {
     "data": {
      "image/png": "[encoded data removed]",
      "text/plain": [
       "<Figure size 1500x600 with 1 Axes>"
      ]
     },
     "metadata": {},
     "output_type": "display_data"
    }
   ],
   "source": [
    "# Número de ativos por ano:\n",
    "plt.figure(figsize=(15,6)) # definindo o tamanho da figura\n",
    "df2 = df.groupby(['ano'])['TICKER'].size().reset_index(name='count')\n",
    "\n",
    "sns.barplot(data = df2, x='ano', y='count',width=0.8)\n",
    "plt.xlabel('Ano')\n",
    "plt.ylabel('Número de tickers')\n",
    "plt.show()\n"
   ]
  },
  {
   "cell_type": "code",
   "execution_count": 88,
   "metadata": {},
   "outputs": [
    {
     "data": {
      "text/html": [
       "<div>\n",
       "<style scoped>\n",
       "    .dataframe tbody tr th:only-of-type {\n",
       "        vertical-align: middle;\n",
       "    }\n",
       "\n",
       "    .dataframe tbody tr th {\n",
       "        vertical-align: top;\n",
       "    }\n",
       "\n",
       "    .dataframe thead th {\n",
       "        text-align: right;\n",
       "    }\n",
       "</style>\n",
       "<table border=\"1\" class=\"dataframe\">\n",
       "  <thead>\n",
       "    <tr style=\"text-align: right;\">\n",
       "      <th></th>\n",
       "      <th>TICKER</th>\n",
       "      <th>Nome da Empresa</th>\n",
       "      <th>Data da Análise</th>\n",
       "      <th>Preço de Fechamento</th>\n",
       "      <th>data</th>\n",
       "      <th>ano</th>\n",
       "      <th>PL</th>\n",
       "      <th>QNT</th>\n",
       "      <th>EBIT</th>\n",
       "      <th>AT</th>\n",
       "      <th>VM</th>\n",
       "    </tr>\n",
       "  </thead>\n",
       "  <tbody>\n",
       "    <tr>\n",
       "      <th>0</th>\n",
       "      <td>ABEV3</td>\n",
       "      <td>AMBEV S/A</td>\n",
       "      <td>29/12/2022</td>\n",
       "      <td>14.52</td>\n",
       "      <td>2022-12-29</td>\n",
       "      <td>2022</td>\n",
       "      <td>833.27827</td>\n",
       "      <td>157.502170</td>\n",
       "      <td>176.87946</td>\n",
       "      <td>1379.58083</td>\n",
       "      <td>2286.931508</td>\n",
       "    </tr>\n",
       "    <tr>\n",
       "      <th>1</th>\n",
       "      <td>ALPA4</td>\n",
       "      <td>ALPARGATAS</td>\n",
       "      <td>29/12/2022</td>\n",
       "      <td>15.08</td>\n",
       "      <td>2022-12-29</td>\n",
       "      <td>2022</td>\n",
       "      <td>57.59758</td>\n",
       "      <td>6.830622</td>\n",
       "      <td>3.86977</td>\n",
       "      <td>84.99680</td>\n",
       "      <td>103.005783</td>\n",
       "    </tr>\n",
       "    <tr>\n",
       "      <th>2</th>\n",
       "      <td>AMER3</td>\n",
       "      <td>AMERICANAS</td>\n",
       "      <td>29/12/2022</td>\n",
       "      <td>9.65</td>\n",
       "      <td>2022-12-29</td>\n",
       "      <td>2022</td>\n",
       "      <td>147.05555</td>\n",
       "      <td>9.097745</td>\n",
       "      <td>11.65519</td>\n",
       "      <td>470.84128</td>\n",
       "      <td>87.793240</td>\n",
       "    </tr>\n",
       "    <tr>\n",
       "      <th>3</th>\n",
       "      <td>ARZZ3</td>\n",
       "      <td>AREZZO CO</td>\n",
       "      <td>29/12/2022</td>\n",
       "      <td>78.25</td>\n",
       "      <td>2022-12-29</td>\n",
       "      <td>2022</td>\n",
       "      <td>26.54593</td>\n",
       "      <td>1.101861</td>\n",
       "      <td>5.50129</td>\n",
       "      <td>46.59264</td>\n",
       "      <td>86.220605</td>\n",
       "    </tr>\n",
       "    <tr>\n",
       "      <th>4</th>\n",
       "      <td>ASAI3</td>\n",
       "      <td>ASSAI</td>\n",
       "      <td>29/12/2022</td>\n",
       "      <td>19.47</td>\n",
       "      <td>2022-12-29</td>\n",
       "      <td>2022</td>\n",
       "      <td>38.96000</td>\n",
       "      <td>13.491650</td>\n",
       "      <td>28.06000</td>\n",
       "      <td>406.18000</td>\n",
       "      <td>262.682425</td>\n",
       "    </tr>\n",
       "  </tbody>\n",
       "</table>\n",
       "</div>"
      ],
      "text/plain": [
       "  TICKER Nome da Empresa Data da Análise  Preço de Fechamento       data  \\\n",
       "0  ABEV3       AMBEV S/A      29/12/2022                14.52 2022-12-29   \n",
       "1  ALPA4      ALPARGATAS      29/12/2022                15.08 2022-12-29   \n",
       "2  AMER3      AMERICANAS      29/12/2022                 9.65 2022-12-29   \n",
       "3  ARZZ3       AREZZO CO      29/12/2022                78.25 2022-12-29   \n",
       "4  ASAI3           ASSAI      29/12/2022                19.47 2022-12-29   \n",
       "\n",
       "    ano         PL         QNT       EBIT          AT           VM  \n",
       "0  2022  833.27827  157.502170  176.87946  1379.58083  2286.931508  \n",
       "1  2022   57.59758    6.830622    3.86977    84.99680   103.005783  \n",
       "2  2022  147.05555    9.097745   11.65519   470.84128    87.793240  \n",
       "3  2022   26.54593    1.101861    5.50129    46.59264    86.220605  \n",
       "4  2022   38.96000   13.491650   28.06000   406.18000   262.682425  "
      ]
     },
     "execution_count": 88,
     "metadata": {},
     "output_type": "execute_result"
    }
   ],
   "source": [
    "# ajustar os valores financeiros.\n",
    "df['PL'] = df[\"Patrimônio Líquido\\n\\n\"] / 100\n",
    "df['QNT'] = df[\"QUANT_ON_PN\"] / 100\n",
    "df[\"EBIT\"] = df[\"EBIT\\n12 meses\\n\\n\"] / 100\n",
    "df[\"AT\"] = df[\"Ativo Total\\n\\n\"] / 100\n",
    "\n",
    "#valores financeiros em Milhoes:\n",
    "df['PL'] = df['PL']  / 1e6\n",
    "df['QNT'] = df['QNT'] / 1e6\n",
    "df[\"EBIT\"] =df[\"EBIT\"] / 1e6\n",
    "df[\"AT\"] = df[\"AT\"] / 1e6\n",
    "df['ano'] = df['ano_str']\n",
    "df['VM'] = df[\"Preço de Fechamento\"] * df[\"FATOR_COTACAO\"]* df[\"QNT\"]\n",
    "# eliminar colunas redundantes\n",
    "df = df.drop(columns=['ano_str','FATOR_COTACAO','Patrimônio Líquido\\n\\n', 'QUANT_ON_PN','EBIT\\n12 meses\\n\\n','Ativo Total\\n\\n','QUANT_ON_PN.1'])\n",
    "df.head()"
   ]
  },
  {
   "cell_type": "markdown",
   "metadata": {},
   "source": [
    "## Definir conjunto Universo das ações a compor Portifólios"
   ]
  },
  {
   "cell_type": "code",
   "execution_count": 89,
   "metadata": {},
   "outputs": [],
   "source": [
    "universe = df['TICKER'].unique()"
   ]
  },
  {
   "cell_type": "code",
   "execution_count": 90,
   "metadata": {},
   "outputs": [
    {
     "data": {
      "text/plain": [
       "187"
      ]
     },
     "execution_count": 90,
     "metadata": {},
     "output_type": "execute_result"
    }
   ],
   "source": [
    "len(universe)"
   ]
  },
  {
   "cell_type": "markdown",
   "metadata": {},
   "source": [
    "O número de ações a ser analizado, e constituindo o conjunto universo é de 187 ações."
   ]
  },
  {
   "cell_type": "code",
   "execution_count": 107,
   "metadata": {},
   "outputs": [
    {
     "data": {
      "text/html": [
       "<div>\n",
       "<style scoped>\n",
       "    .dataframe tbody tr th:only-of-type {\n",
       "        vertical-align: middle;\n",
       "    }\n",
       "\n",
       "    .dataframe tbody tr th {\n",
       "        vertical-align: top;\n",
       "    }\n",
       "\n",
       "    .dataframe thead th {\n",
       "        text-align: right;\n",
       "    }\n",
       "</style>\n",
       "<table border=\"1\" class=\"dataframe\">\n",
       "  <thead>\n",
       "    <tr style=\"text-align: right;\">\n",
       "      <th></th>\n",
       "      <th>count</th>\n",
       "    </tr>\n",
       "  </thead>\n",
       "  <tbody>\n",
       "    <tr>\n",
       "      <th>count</th>\n",
       "      <td>187.000000</td>\n",
       "    </tr>\n",
       "    <tr>\n",
       "      <th>mean</th>\n",
       "      <td>6.374332</td>\n",
       "    </tr>\n",
       "    <tr>\n",
       "      <th>std</th>\n",
       "      <td>5.497701</td>\n",
       "    </tr>\n",
       "    <tr>\n",
       "      <th>min</th>\n",
       "      <td>1.000000</td>\n",
       "    </tr>\n",
       "    <tr>\n",
       "      <th>25%</th>\n",
       "      <td>2.000000</td>\n",
       "    </tr>\n",
       "    <tr>\n",
       "      <th>50%</th>\n",
       "      <td>4.000000</td>\n",
       "    </tr>\n",
       "    <tr>\n",
       "      <th>75%</th>\n",
       "      <td>9.000000</td>\n",
       "    </tr>\n",
       "    <tr>\n",
       "      <th>max</th>\n",
       "      <td>20.000000</td>\n",
       "    </tr>\n",
       "  </tbody>\n",
       "</table>\n",
       "</div>"
      ],
      "text/plain": [
       "            count\n",
       "count  187.000000\n",
       "mean     6.374332\n",
       "std      5.497701\n",
       "min      1.000000\n",
       "25%      2.000000\n",
       "50%      4.000000\n",
       "75%      9.000000\n",
       "max     20.000000"
      ]
     },
     "execution_count": 107,
     "metadata": {},
     "output_type": "execute_result"
    },
    {
     "data": {
      "text/plain": [
       "<Figure size 1500x600 with 0 Axes>"
      ]
     },
     "metadata": {},
     "output_type": "display_data"
    }
   ],
   "source": [
    "# analisando a quantidade de anos que cada ação aparece\n",
    "plt.figure(figsize=(15,6)) # definindo o tamanho da figura\n",
    "\n",
    "quantidade = df.groupby('TICKER')['ano'].size().reset_index(name='count')\n",
    "\n",
    "quantidade.describe()\n",
    "# sns.barplot(data = quantidade.loc[quantidade['count'] < 10], x='TICKER', y='count',width=0.4)\n",
    "# plt.xlabel('TICKER')\n",
    "# plt.ylabel('Quantidade de Anos')\n",
    "# plt.show()"
   ]
  },
  {
   "cell_type": "markdown",
   "metadata": {},
   "source": [
    "A mediana do Conjunto de ações é 4 anos no índice. Isso é devido ao fato de certas empresas pederem relevância, Fecharem capital, declararem falência, ou trocarem de TICKER."
   ]
  },
  {
   "cell_type": "code",
   "execution_count": 113,
   "metadata": {},
   "outputs": [
    {
     "data": {
      "text/html": [
       "<div>\n",
       "<style scoped>\n",
       "    .dataframe tbody tr th:only-of-type {\n",
       "        vertical-align: middle;\n",
       "    }\n",
       "\n",
       "    .dataframe tbody tr th {\n",
       "        vertical-align: top;\n",
       "    }\n",
       "\n",
       "    .dataframe thead th {\n",
       "        text-align: right;\n",
       "    }\n",
       "</style>\n",
       "<table border=\"1\" class=\"dataframe\">\n",
       "  <thead>\n",
       "    <tr style=\"text-align: right;\">\n",
       "      <th></th>\n",
       "      <th>TICKER</th>\n",
       "      <th>Nome da Empresa</th>\n",
       "      <th>Data da Análise</th>\n",
       "      <th>Preço de Fechamento</th>\n",
       "      <th>data</th>\n",
       "      <th>ano</th>\n",
       "      <th>PL</th>\n",
       "      <th>QNT</th>\n",
       "      <th>EBIT</th>\n",
       "      <th>AT</th>\n",
       "      <th>VM</th>\n",
       "    </tr>\n",
       "  </thead>\n",
       "  <tbody>\n",
       "    <tr>\n",
       "      <th>17</th>\n",
       "      <td>CASH3</td>\n",
       "      <td>MELIUZ</td>\n",
       "      <td>29/12/2022</td>\n",
       "      <td>1.18</td>\n",
       "      <td>2022-12-29</td>\n",
       "      <td>2022</td>\n",
       "      <td>7.99198</td>\n",
       "      <td>8.649319</td>\n",
       "      <td>-1.41501</td>\n",
       "      <td>13.57951</td>\n",
       "      <td>10.206197</td>\n",
       "    </tr>\n",
       "    <tr>\n",
       "      <th>53</th>\n",
       "      <td>MGLU3</td>\n",
       "      <td>MAGAZ LUIZA</td>\n",
       "      <td>29/12/2022</td>\n",
       "      <td>2.74</td>\n",
       "      <td>2022-12-29</td>\n",
       "      <td>2022</td>\n",
       "      <td>106.48701</td>\n",
       "      <td>67.489268</td>\n",
       "      <td>8.07373</td>\n",
       "      <td>377.65845</td>\n",
       "      <td>184.920596</td>\n",
       "    </tr>\n",
       "    <tr>\n",
       "      <th>105</th>\n",
       "      <td>CASH3</td>\n",
       "      <td>MELIUZ</td>\n",
       "      <td>29/12/2021</td>\n",
       "      <td>3.01</td>\n",
       "      <td>2021-12-29</td>\n",
       "      <td>2021</td>\n",
       "      <td>7.99198</td>\n",
       "      <td>8.649319</td>\n",
       "      <td>-1.41501</td>\n",
       "      <td>13.57951</td>\n",
       "      <td>26.034451</td>\n",
       "    </tr>\n",
       "    <tr>\n",
       "      <th>145</th>\n",
       "      <td>MGLU3</td>\n",
       "      <td>MAGAZ LUIZA</td>\n",
       "      <td>29/12/2021</td>\n",
       "      <td>6.76</td>\n",
       "      <td>2021-12-29</td>\n",
       "      <td>2021</td>\n",
       "      <td>106.48701</td>\n",
       "      <td>67.489268</td>\n",
       "      <td>8.07373</td>\n",
       "      <td>377.65845</td>\n",
       "      <td>456.227455</td>\n",
       "    </tr>\n",
       "    <tr>\n",
       "      <th>223</th>\n",
       "      <td>MGLU3</td>\n",
       "      <td>MAGAZ LUIZA</td>\n",
       "      <td>29/12/2020</td>\n",
       "      <td>25.28</td>\n",
       "      <td>2020-12-29</td>\n",
       "      <td>2020</td>\n",
       "      <td>106.48701</td>\n",
       "      <td>67.489268</td>\n",
       "      <td>8.07373</td>\n",
       "      <td>377.65845</td>\n",
       "      <td>1706.128707</td>\n",
       "    </tr>\n",
       "    <tr>\n",
       "      <th>290</th>\n",
       "      <td>MGLU3</td>\n",
       "      <td>MAGAZ LUIZA</td>\n",
       "      <td>27/12/2019</td>\n",
       "      <td>48.73</td>\n",
       "      <td>2019-12-27</td>\n",
       "      <td>2019</td>\n",
       "      <td>106.48701</td>\n",
       "      <td>67.489268</td>\n",
       "      <td>8.07373</td>\n",
       "      <td>377.65845</td>\n",
       "      <td>3288.752053</td>\n",
       "    </tr>\n",
       "    <tr>\n",
       "      <th>353</th>\n",
       "      <td>MGLU3</td>\n",
       "      <td>MAGAZ LUIZA</td>\n",
       "      <td>28/12/2018</td>\n",
       "      <td>181.07</td>\n",
       "      <td>2018-12-28</td>\n",
       "      <td>2018</td>\n",
       "      <td>106.48701</td>\n",
       "      <td>67.489268</td>\n",
       "      <td>8.07373</td>\n",
       "      <td>377.65845</td>\n",
       "      <td>12220.281844</td>\n",
       "    </tr>\n",
       "  </tbody>\n",
       "</table>\n",
       "</div>"
      ],
      "text/plain": [
       "    TICKER Nome da Empresa Data da Análise  Preço de Fechamento       data  \\\n",
       "17   CASH3          MELIUZ      29/12/2022                 1.18 2022-12-29   \n",
       "53   MGLU3     MAGAZ LUIZA      29/12/2022                 2.74 2022-12-29   \n",
       "105  CASH3          MELIUZ      29/12/2021                 3.01 2021-12-29   \n",
       "145  MGLU3     MAGAZ LUIZA      29/12/2021                 6.76 2021-12-29   \n",
       "223  MGLU3     MAGAZ LUIZA      29/12/2020                25.28 2020-12-29   \n",
       "290  MGLU3     MAGAZ LUIZA      27/12/2019                48.73 2019-12-27   \n",
       "353  MGLU3     MAGAZ LUIZA      28/12/2018               181.07 2018-12-28   \n",
       "\n",
       "      ano         PL        QNT     EBIT         AT            VM  \n",
       "17   2022    7.99198   8.649319 -1.41501   13.57951     10.206197  \n",
       "53   2022  106.48701  67.489268  8.07373  377.65845    184.920596  \n",
       "105  2021    7.99198   8.649319 -1.41501   13.57951     26.034451  \n",
       "145  2021  106.48701  67.489268  8.07373  377.65845    456.227455  \n",
       "223  2020  106.48701  67.489268  8.07373  377.65845   1706.128707  \n",
       "290  2019  106.48701  67.489268  8.07373  377.65845   3288.752053  \n",
       "353  2018  106.48701  67.489268  8.07373  377.65845  12220.281844  "
      ]
     },
     "execution_count": 113,
     "metadata": {},
     "output_type": "execute_result"
    }
   ],
   "source": [
    "df.loc[df[\"TICKER\"].isin(['CASH3','MGLU3'])]"
   ]
  },
  {
   "cell_type": "code",
   "execution_count": 136,
   "metadata": {},
   "outputs": [],
   "source": [
    "ibov_hj = pd.read_excel(\"data/ibov_2023.xlsx\",index_col=None)"
   ]
  },
  {
   "cell_type": "code",
   "execution_count": 137,
   "metadata": {},
   "outputs": [],
   "source": [
    "quant_ibov_hj = quantidade.loc[quantidade['TICKER'].isin(ibov_hj['TICKER'])]"
   ]
  },
  {
   "cell_type": "code",
   "execution_count": 141,
   "metadata": {},
   "outputs": [
    {
     "data": {
      "image/png": "[encoded data removed]",
      "text/plain": [
       "<Figure size 1500x600 with 1 Axes>"
      ]
     },
     "metadata": {},
     "output_type": "display_data"
    }
   ],
   "source": [
    "# Vamos ver a distribuição dos anos em que cada ação do IBOV fica:\n",
    "plt.figure(figsize=(15,6)) # definindo o tamanho da figura\n",
    "\n",
    "cont_anos = quant_ibov_hj.groupby('count')['TICKER'].size().reset_index(name='Quantidade')\n",
    "sns.barplot(cont_anos,x = 'count',y='Quantidade')\n",
    "plt.xlabel('Ano')\n",
    "plt.ylabel('Número de tickers')\n",
    "plt.show()"
   ]
  },
  {
   "cell_type": "markdown",
   "metadata": {},
   "source": [
    "Observe que a maioria ficou menos de 5 anos, e uma quantidade razoável ficou por 20 anos (bluechips)"
   ]
  }
 ],
 "metadata": {
  "colab": {
   "provenance": []
  },
  "kernelspec": {
   "display_name": "Python 3 (ipykernel)",
   "language": "python",
   "name": "python3"
  },
  "language_info": {
   "codemirror_mode": {
    "name": "ipython",
    "version": 3
   },
   "file_extension": ".py",
   "mimetype": "text/x-python",
   "name": "python",
   "nbconvert_exporter": "python",
   "pygments_lexer": "ipython3",
   "version": "3.10.9"
  }
 },
 "nbformat": 4,
 "nbformat_minor": 1
}
