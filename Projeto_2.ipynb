{
 "cells": [
  {
   "cell_type": "markdown",
   "id": "dc18b848",
   "metadata": {},
   "source": [
    "# Risk Factors :\n",
    "\n",
    "Sob a perspectiva de evitar fazer cálculos desnecessários, aumentando o risco de erros de validação, e tratamento dos dados de mercado, foram utilizados o conjunto de dados a respeito dos Fatores fornecidos pelo *NEFIN* : https://nefin.com.br/data/risk_factors.html . O conjunto de dados é dividido em 6 arquivos separados, desde $02$ de Janeiro de 2001"
   ]
  },
  {
   "cell_type": "markdown",
   "id": "62e17865",
   "metadata": {},
   "source": [
    "In case there is an error in the read_excel of \".xls\" files:"
   ]
  },
  {
   "cell_type": "code",
   "execution_count": 1,
   "id": "bbe8ac85",
   "metadata": {},
   "outputs": [],
   "source": [
    "#!pip install xlrd"
   ]
  },
  {
   "cell_type": "markdown",
   "id": "f4be2980",
   "metadata": {},
   "source": [
    "### Library"
   ]
  },
  {
   "cell_type": "code",
   "execution_count": 2,
   "id": "7ff94beb",
   "metadata": {},
   "outputs": [],
   "source": [
    "# Initial Imports:\n",
    "import pandas as pd\n",
    "import numpy as np\n",
    "from pathlib import Path\n",
    "from datetime import datetime\n",
    "import warnings\n",
    "warnings.filterwarnings('ignore')\n",
    "\n",
    "\n",
    "\n",
    "# To run models:\n",
    "import statsmodels.api as sm\n",
    "from sklearn.ensemble import RandomForestClassifier\n",
    "from sklearn.datasets import make_classification\n",
    "from joblib import dump, load\n",
    "# Import Linear Regression Model from SKLearn:\n",
    "from sklearn.linear_model import LinearRegression\n",
    "\n",
    "# For visualizations:\n",
    "import matplotlib.pyplot as plt\n",
    "import seaborn as sns\n",
    "%matplotlib inline\n",
    "\n",
    "\n",
    "# Project files\n",
    "from evaluation import *\n",
    "from portfolio import *"
   ]
  },
  {
   "cell_type": "markdown",
   "id": "07a05720",
   "metadata": {},
   "source": [
    "### Data "
   ]
  },
  {
   "cell_type": "code",
   "execution_count": 3,
   "id": "1df3b0ab",
   "metadata": {},
   "outputs": [],
   "source": [
    "# Rm - Market Factor\n",
    "MKT = pd.read_excel(\"./data/risk_factors/Market_Factor.xls\",index_col=None)\n",
    "\n",
    "# High minus low - Value Factor\n",
    "HML = pd.read_excel(\"./data/risk_factors/HML_Factor.xls\",index_col=None)\n",
    "\n",
    "# Illiquid Minus Liquid - Liquidity Factor\n",
    "IML = pd.read_excel(\"./data/risk_factors/IML_Factor.xls\",index_col=None)\n",
    "\n",
    "#Small minus big - Size Factor\n",
    "SMB = pd.read_excel(\"./data/risk_factors/SMB_Factor.xls\",index_col=None)\n",
    "\n",
    "#Winners Minus Loser - Momentum Factor\n",
    "WML = pd.read_excel(\"./data/risk_factors/WML_Factor.xls\",index_col=None)\n",
    "\n",
    "# Daily Risk Free - Rf\n",
    "RF = pd.read_excel(\"./data/risk_factors/Risk_Free.xls\", index_col = None)\n",
    "\n",
    "# TEST stock:\n",
    "stocks_folder = \"./data/stocks\""
   ]
  },
  {
   "cell_type": "code",
   "execution_count": 4,
   "id": "4ae5f912",
   "metadata": {},
   "outputs": [
    {
     "data": {
      "text/plain": [
       "Index(['year', 'month', 'day', 'HML'], dtype='object')"
      ]
     },
     "execution_count": 4,
     "metadata": {},
     "output_type": "execute_result"
    }
   ],
   "source": [
    "HML.columns"
   ]
  },
  {
   "cell_type": "markdown",
   "id": "f80b2a80",
   "metadata": {},
   "source": [
    "### Functions:"
   ]
  },
  {
   "cell_type": "code",
   "execution_count": 5,
   "id": "2772c82b",
   "metadata": {},
   "outputs": [
    {
     "name": "stdout",
     "output_type": "stream",
     "text": [
      "Index(['Data', 'Fech Ajustado', 'Variação(%)', 'Fech Histórico',\n",
      "       'Abertura Ajustado', 'Mín Ajustado', 'Médio Ajustado', 'Máx Ajustado',\n",
      "       'Vol (MM R$)', 'Negócios', 'Fator', 'Tipo'],\n",
      "      dtype='object')\n"
     ]
    }
   ],
   "source": [
    "stock = choose_stock(\"ITUB3\",stocks_folder)"
   ]
  },
  {
   "cell_type": "code",
   "execution_count": 6,
   "id": "8246d43c",
   "metadata": {},
   "outputs": [
    {
     "data": {
      "text/plain": [
       "Index(['Fech Ajustado', 'Variação(%)', 'Fech Histórico', 'Abertura Ajustado',\n",
       "       'Mín Ajustado', 'Médio Ajustado', 'Máx Ajustado', 'Vol (MM R$)',\n",
       "       'Negócios', 'Fator', 'Tipo'],\n",
       "      dtype='object')"
      ]
     },
     "execution_count": 6,
     "metadata": {},
     "output_type": "execute_result"
    }
   ],
   "source": [
    "stock.columns"
   ]
  },
  {
   "cell_type": "code",
   "execution_count": 7,
   "id": "45a4cef2",
   "metadata": {},
   "outputs": [],
   "source": [
    "stock_prepared = prepare_portfolio(stock,1)"
   ]
  },
  {
   "cell_type": "code",
   "execution_count": 8,
   "id": "60bc16cc",
   "metadata": {},
   "outputs": [],
   "source": [
    "# analyse_stock(stock)"
   ]
  },
  {
   "cell_type": "code",
   "execution_count": 9,
   "id": "3cd837f6",
   "metadata": {},
   "outputs": [
    {
     "data": {
      "text/html": [
       "<div>\n",
       "<style scoped>\n",
       "    .dataframe tbody tr th:only-of-type {\n",
       "        vertical-align: middle;\n",
       "    }\n",
       "\n",
       "    .dataframe tbody tr th {\n",
       "        vertical-align: top;\n",
       "    }\n",
       "\n",
       "    .dataframe thead th {\n",
       "        text-align: right;\n",
       "    }\n",
       "</style>\n",
       "<table border=\"1\" class=\"dataframe\">\n",
       "  <thead>\n",
       "    <tr style=\"text-align: right;\">\n",
       "      <th></th>\n",
       "      <th>Close</th>\n",
       "      <th>Returns</th>\n",
       "    </tr>\n",
       "    <tr>\n",
       "      <th>date</th>\n",
       "      <th></th>\n",
       "      <th></th>\n",
       "    </tr>\n",
       "  </thead>\n",
       "  <tbody>\n",
       "    <tr>\n",
       "      <th>2023/04/28</th>\n",
       "      <td>22.072350</td>\n",
       "      <td>1.191022</td>\n",
       "    </tr>\n",
       "    <tr>\n",
       "      <th>2023/04/27</th>\n",
       "      <td>21.812558</td>\n",
       "      <td>1.771562</td>\n",
       "    </tr>\n",
       "    <tr>\n",
       "      <th>2023/04/26</th>\n",
       "      <td>21.432861</td>\n",
       "      <td>-0.786309</td>\n",
       "    </tr>\n",
       "    <tr>\n",
       "      <th>2023/04/25</th>\n",
       "      <td>21.602726</td>\n",
       "      <td>0.886608</td>\n",
       "    </tr>\n",
       "    <tr>\n",
       "      <th>2023/04/24</th>\n",
       "      <td>21.412877</td>\n",
       "      <td>-0.832948</td>\n",
       "    </tr>\n",
       "  </tbody>\n",
       "</table>\n",
       "</div>"
      ],
      "text/plain": [
       "                Close   Returns\n",
       "date                           \n",
       "2023/04/28  22.072350  1.191022\n",
       "2023/04/27  21.812558  1.771562\n",
       "2023/04/26  21.432861 -0.786309\n",
       "2023/04/25  21.602726  0.886608\n",
       "2023/04/24  21.412877 -0.832948"
      ]
     },
     "execution_count": 9,
     "metadata": {},
     "output_type": "execute_result"
    }
   ],
   "source": [
    "stock_prepared.head()"
   ]
  },
  {
   "cell_type": "code",
   "execution_count": 10,
   "id": "284cdec5",
   "metadata": {},
   "outputs": [
    {
     "data": {
      "text/plain": [
       "Index(['Fech Ajustado', 'Variação(%)', 'Fech Histórico', 'Abertura Ajustado',\n",
       "       'Mín Ajustado', 'Médio Ajustado', 'Máx Ajustado', 'Vol (MM R$)',\n",
       "       'Negócios', 'Fator', 'Tipo'],\n",
       "      dtype='object')"
      ]
     },
     "execution_count": 10,
     "metadata": {},
     "output_type": "execute_result"
    }
   ],
   "source": [
    "stock.columns"
   ]
  },
  {
   "cell_type": "code",
   "execution_count": 11,
   "id": "a9d50aca",
   "metadata": {},
   "outputs": [
    {
     "data": {
      "text/plain": [
       "Index(['year', 'month', 'day', 'HML'], dtype='object')"
      ]
     },
     "execution_count": 11,
     "metadata": {},
     "output_type": "execute_result"
    }
   ],
   "source": [
    "HML.columns"
   ]
  },
  {
   "cell_type": "code",
   "execution_count": 12,
   "id": "68aa63e6",
   "metadata": {},
   "outputs": [],
   "source": [
    "HML = pre_processing(HML)\n",
    "MKT = pre_processing(MKT)\n",
    "IML = pre_processing(IML)\n",
    "SMB = pre_processing(SMB)\n",
    "WML = pre_processing(WML)\n",
    "RF = pre_processing(RF)"
   ]
  },
  {
   "cell_type": "code",
   "execution_count": 13,
   "id": "927d82b0",
   "metadata": {},
   "outputs": [
    {
     "data": {
      "text/html": [
       "<div>\n",
       "<style scoped>\n",
       "    .dataframe tbody tr th:only-of-type {\n",
       "        vertical-align: middle;\n",
       "    }\n",
       "\n",
       "    .dataframe tbody tr th {\n",
       "        vertical-align: top;\n",
       "    }\n",
       "\n",
       "    .dataframe thead th {\n",
       "        text-align: right;\n",
       "    }\n",
       "</style>\n",
       "<table border=\"1\" class=\"dataframe\">\n",
       "  <thead>\n",
       "    <tr style=\"text-align: right;\">\n",
       "      <th></th>\n",
       "      <th>Rm_minus_Rf</th>\n",
       "      <th>HML</th>\n",
       "      <th>IML</th>\n",
       "      <th>SMB</th>\n",
       "      <th>WML</th>\n",
       "      <th>Risk_free</th>\n",
       "    </tr>\n",
       "    <tr>\n",
       "      <th>date</th>\n",
       "      <th></th>\n",
       "      <th></th>\n",
       "      <th></th>\n",
       "      <th></th>\n",
       "      <th></th>\n",
       "      <th></th>\n",
       "    </tr>\n",
       "  </thead>\n",
       "  <tbody>\n",
       "    <tr>\n",
       "      <th>2001/01/02</th>\n",
       "      <td>0.006601</td>\n",
       "      <td>0.065490</td>\n",
       "      <td>0.014109</td>\n",
       "      <td>0.000524</td>\n",
       "      <td>-0.006308</td>\n",
       "      <td>0.000579</td>\n",
       "    </tr>\n",
       "    <tr>\n",
       "      <th>2001/01/03</th>\n",
       "      <td>0.062427</td>\n",
       "      <td>0.009390</td>\n",
       "      <td>0.004510</td>\n",
       "      <td>0.005390</td>\n",
       "      <td>-0.028644</td>\n",
       "      <td>0.000577</td>\n",
       "    </tr>\n",
       "    <tr>\n",
       "      <th>2001/01/04</th>\n",
       "      <td>-0.000310</td>\n",
       "      <td>-0.002327</td>\n",
       "      <td>-0.009227</td>\n",
       "      <td>0.006690</td>\n",
       "      <td>-0.000946</td>\n",
       "      <td>0.000574</td>\n",
       "    </tr>\n",
       "    <tr>\n",
       "      <th>2001/01/05</th>\n",
       "      <td>-0.012839</td>\n",
       "      <td>-0.002397</td>\n",
       "      <td>0.025124</td>\n",
       "      <td>0.003523</td>\n",
       "      <td>0.005985</td>\n",
       "      <td>0.000573</td>\n",
       "    </tr>\n",
       "    <tr>\n",
       "      <th>2001/01/08</th>\n",
       "      <td>0.003982</td>\n",
       "      <td>0.001948</td>\n",
       "      <td>-0.001175</td>\n",
       "      <td>0.007883</td>\n",
       "      <td>-0.004099</td>\n",
       "      <td>0.000573</td>\n",
       "    </tr>\n",
       "  </tbody>\n",
       "</table>\n",
       "</div>"
      ],
      "text/plain": [
       "            Rm_minus_Rf       HML       IML       SMB       WML  Risk_free\n",
       "date                                                                      \n",
       "2001/01/02     0.006601  0.065490  0.014109  0.000524 -0.006308   0.000579\n",
       "2001/01/03     0.062427  0.009390  0.004510  0.005390 -0.028644   0.000577\n",
       "2001/01/04    -0.000310 -0.002327 -0.009227  0.006690 -0.000946   0.000574\n",
       "2001/01/05    -0.012839 -0.002397  0.025124  0.003523  0.005985   0.000573\n",
       "2001/01/08     0.003982  0.001948 -0.001175  0.007883 -0.004099   0.000573"
      ]
     },
     "execution_count": 13,
     "metadata": {},
     "output_type": "execute_result"
    }
   ],
   "source": [
    "factors = pd.concat([MKT,HML,IML,SMB,WML,RF],axis=1)\n",
    "factors.head()"
   ]
  },
  {
   "cell_type": "code",
   "execution_count": 14,
   "id": "383a070f",
   "metadata": {},
   "outputs": [
    {
     "data": {
      "text/html": [
       "<div>\n",
       "<style scoped>\n",
       "    .dataframe tbody tr th:only-of-type {\n",
       "        vertical-align: middle;\n",
       "    }\n",
       "\n",
       "    .dataframe tbody tr th {\n",
       "        vertical-align: top;\n",
       "    }\n",
       "\n",
       "    .dataframe thead th {\n",
       "        text-align: right;\n",
       "    }\n",
       "</style>\n",
       "<table border=\"1\" class=\"dataframe\">\n",
       "  <thead>\n",
       "    <tr style=\"text-align: right;\">\n",
       "      <th></th>\n",
       "      <th>Rm_minus_Rf</th>\n",
       "    </tr>\n",
       "    <tr>\n",
       "      <th>date</th>\n",
       "      <th></th>\n",
       "    </tr>\n",
       "  </thead>\n",
       "  <tbody>\n",
       "    <tr>\n",
       "      <th>2001/01/02</th>\n",
       "      <td>0.006601</td>\n",
       "    </tr>\n",
       "    <tr>\n",
       "      <th>2001/01/03</th>\n",
       "      <td>0.062427</td>\n",
       "    </tr>\n",
       "    <tr>\n",
       "      <th>2001/01/04</th>\n",
       "      <td>-0.000310</td>\n",
       "    </tr>\n",
       "    <tr>\n",
       "      <th>2001/01/05</th>\n",
       "      <td>-0.012839</td>\n",
       "    </tr>\n",
       "    <tr>\n",
       "      <th>2001/01/08</th>\n",
       "      <td>0.003982</td>\n",
       "    </tr>\n",
       "    <tr>\n",
       "      <th>2001/01/09</th>\n",
       "      <td>0.019986</td>\n",
       "    </tr>\n",
       "    <tr>\n",
       "      <th>2001/01/10</th>\n",
       "      <td>-0.004368</td>\n",
       "    </tr>\n",
       "    <tr>\n",
       "      <th>2001/01/11</th>\n",
       "      <td>0.004694</td>\n",
       "    </tr>\n",
       "    <tr>\n",
       "      <th>2001/01/12</th>\n",
       "      <td>-0.006783</td>\n",
       "    </tr>\n",
       "    <tr>\n",
       "      <th>2001/01/15</th>\n",
       "      <td>0.005110</td>\n",
       "    </tr>\n",
       "  </tbody>\n",
       "</table>\n",
       "</div>"
      ],
      "text/plain": [
       "            Rm_minus_Rf\n",
       "date                   \n",
       "2001/01/02     0.006601\n",
       "2001/01/03     0.062427\n",
       "2001/01/04    -0.000310\n",
       "2001/01/05    -0.012839\n",
       "2001/01/08     0.003982\n",
       "2001/01/09     0.019986\n",
       "2001/01/10    -0.004368\n",
       "2001/01/11     0.004694\n",
       "2001/01/12    -0.006783\n",
       "2001/01/15     0.005110"
      ]
     },
     "execution_count": 14,
     "metadata": {},
     "output_type": "execute_result"
    }
   ],
   "source": [
    "MKT.head(10)"
   ]
  },
  {
   "cell_type": "code",
   "execution_count": 15,
   "id": "d7b8ba6a",
   "metadata": {},
   "outputs": [
    {
     "data": {
      "text/html": [
       "<div>\n",
       "<style scoped>\n",
       "    .dataframe tbody tr th:only-of-type {\n",
       "        vertical-align: middle;\n",
       "    }\n",
       "\n",
       "    .dataframe tbody tr th {\n",
       "        vertical-align: top;\n",
       "    }\n",
       "\n",
       "    .dataframe thead th {\n",
       "        text-align: right;\n",
       "    }\n",
       "</style>\n",
       "<table border=\"1\" class=\"dataframe\">\n",
       "  <thead>\n",
       "    <tr style=\"text-align: right;\">\n",
       "      <th></th>\n",
       "      <th>Rm_minus_Rf</th>\n",
       "      <th>HML</th>\n",
       "      <th>IML</th>\n",
       "      <th>SMB</th>\n",
       "      <th>WML</th>\n",
       "      <th>Risk_free</th>\n",
       "    </tr>\n",
       "    <tr>\n",
       "      <th>date</th>\n",
       "      <th></th>\n",
       "      <th></th>\n",
       "      <th></th>\n",
       "      <th></th>\n",
       "      <th></th>\n",
       "      <th></th>\n",
       "    </tr>\n",
       "  </thead>\n",
       "  <tbody>\n",
       "    <tr>\n",
       "      <th>2023/04/24</th>\n",
       "      <td>-0.003781</td>\n",
       "      <td>0.003445</td>\n",
       "      <td>0.002344</td>\n",
       "      <td>0.002098</td>\n",
       "      <td>-0.008456</td>\n",
       "      <td>0.000508</td>\n",
       "    </tr>\n",
       "    <tr>\n",
       "      <th>2023/04/25</th>\n",
       "      <td>-0.006295</td>\n",
       "      <td>-0.004699</td>\n",
       "      <td>-0.001941</td>\n",
       "      <td>-0.008449</td>\n",
       "      <td>0.008281</td>\n",
       "      <td>0.000508</td>\n",
       "    </tr>\n",
       "    <tr>\n",
       "      <th>2023/04/26</th>\n",
       "      <td>-0.007424</td>\n",
       "      <td>0.007253</td>\n",
       "      <td>0.012345</td>\n",
       "      <td>0.010940</td>\n",
       "      <td>0.005710</td>\n",
       "      <td>0.000508</td>\n",
       "    </tr>\n",
       "    <tr>\n",
       "      <th>2023/04/27</th>\n",
       "      <td>0.005182</td>\n",
       "      <td>0.010677</td>\n",
       "      <td>0.003433</td>\n",
       "      <td>0.007564</td>\n",
       "      <td>-0.010000</td>\n",
       "      <td>0.000508</td>\n",
       "    </tr>\n",
       "    <tr>\n",
       "      <th>2023/04/28</th>\n",
       "      <td>0.014016</td>\n",
       "      <td>0.010166</td>\n",
       "      <td>0.004222</td>\n",
       "      <td>0.008966</td>\n",
       "      <td>-0.022140</td>\n",
       "      <td>0.000508</td>\n",
       "    </tr>\n",
       "  </tbody>\n",
       "</table>\n",
       "</div>"
      ],
      "text/plain": [
       "            Rm_minus_Rf       HML       IML       SMB       WML  Risk_free\n",
       "date                                                                      \n",
       "2023/04/24    -0.003781  0.003445  0.002344  0.002098 -0.008456   0.000508\n",
       "2023/04/25    -0.006295 -0.004699 -0.001941 -0.008449  0.008281   0.000508\n",
       "2023/04/26    -0.007424  0.007253  0.012345  0.010940  0.005710   0.000508\n",
       "2023/04/27     0.005182  0.010677  0.003433  0.007564 -0.010000   0.000508\n",
       "2023/04/28     0.014016  0.010166  0.004222  0.008966 -0.022140   0.000508"
      ]
     },
     "execution_count": 15,
     "metadata": {},
     "output_type": "execute_result"
    }
   ],
   "source": [
    "factors.tail()"
   ]
  },
  {
   "cell_type": "code",
   "execution_count": 16,
   "id": "0bc55481",
   "metadata": {},
   "outputs": [
    {
     "data": {
      "text/html": [
       "<div>\n",
       "<style scoped>\n",
       "    .dataframe tbody tr th:only-of-type {\n",
       "        vertical-align: middle;\n",
       "    }\n",
       "\n",
       "    .dataframe tbody tr th {\n",
       "        vertical-align: top;\n",
       "    }\n",
       "\n",
       "    .dataframe thead th {\n",
       "        text-align: right;\n",
       "    }\n",
       "</style>\n",
       "<table border=\"1\" class=\"dataframe\">\n",
       "  <thead>\n",
       "    <tr style=\"text-align: right;\">\n",
       "      <th></th>\n",
       "      <th>Fech Ajustado</th>\n",
       "      <th>Variação(%)</th>\n",
       "      <th>Fech Histórico</th>\n",
       "      <th>Abertura Ajustado</th>\n",
       "      <th>Mín Ajustado</th>\n",
       "      <th>Médio Ajustado</th>\n",
       "      <th>Máx Ajustado</th>\n",
       "      <th>Vol (MM R$)</th>\n",
       "      <th>Negócios</th>\n",
       "      <th>Fator</th>\n",
       "      <th>Tipo</th>\n",
       "    </tr>\n",
       "    <tr>\n",
       "      <th>date</th>\n",
       "      <th></th>\n",
       "      <th></th>\n",
       "      <th></th>\n",
       "      <th></th>\n",
       "      <th></th>\n",
       "      <th></th>\n",
       "      <th></th>\n",
       "      <th></th>\n",
       "      <th></th>\n",
       "      <th></th>\n",
       "      <th></th>\n",
       "    </tr>\n",
       "  </thead>\n",
       "  <tbody>\n",
       "    <tr>\n",
       "      <th>2001/01/08</th>\n",
       "      <td>0.949153</td>\n",
       "      <td>0</td>\n",
       "      <td>189</td>\n",
       "      <td>0.949153</td>\n",
       "      <td>0.949153</td>\n",
       "      <td>0.949153</td>\n",
       "      <td>0.949153</td>\n",
       "      <td>0.12474</td>\n",
       "      <td>2</td>\n",
       "      <td>1000</td>\n",
       "      <td>ON *EJ</td>\n",
       "    </tr>\n",
       "    <tr>\n",
       "      <th>2001/01/05</th>\n",
       "      <td>0.949153</td>\n",
       "      <td>0</td>\n",
       "      <td>189</td>\n",
       "      <td>0.949153</td>\n",
       "      <td>0.949153</td>\n",
       "      <td>0.949153</td>\n",
       "      <td>0.949153</td>\n",
       "      <td>0.01701</td>\n",
       "      <td>3</td>\n",
       "      <td>1000</td>\n",
       "      <td>ON *EJ</td>\n",
       "    </tr>\n",
       "    <tr>\n",
       "      <th>2001/01/04</th>\n",
       "      <td>0.949153</td>\n",
       "      <td>2.162162</td>\n",
       "      <td>189</td>\n",
       "      <td>0.949153</td>\n",
       "      <td>0.949153</td>\n",
       "      <td>0.949153</td>\n",
       "      <td>0.949153</td>\n",
       "      <td>0.02268</td>\n",
       "      <td>1</td>\n",
       "      <td>1000</td>\n",
       "      <td>ON *EJ</td>\n",
       "    </tr>\n",
       "    <tr>\n",
       "      <th>2001/01/03</th>\n",
       "      <td>0.929065</td>\n",
       "      <td>nd</td>\n",
       "      <td>185</td>\n",
       "      <td>0.929065</td>\n",
       "      <td>0.929065</td>\n",
       "      <td>0.929065</td>\n",
       "      <td>0.929065</td>\n",
       "      <td>0.00555</td>\n",
       "      <td>1</td>\n",
       "      <td>1000</td>\n",
       "      <td>ON *EJ</td>\n",
       "    </tr>\n",
       "    <tr>\n",
       "      <th>2001/01/02</th>\n",
       "      <td>nd</td>\n",
       "      <td>nd</td>\n",
       "      <td>nd</td>\n",
       "      <td>nd</td>\n",
       "      <td>nd</td>\n",
       "      <td>nd</td>\n",
       "      <td>nd</td>\n",
       "      <td>nd</td>\n",
       "      <td>nd</td>\n",
       "      <td>nd</td>\n",
       "      <td>nd</td>\n",
       "    </tr>\n",
       "  </tbody>\n",
       "</table>\n",
       "</div>"
      ],
      "text/plain": [
       "           Fech Ajustado Variação(%) Fech Histórico Abertura Ajustado  \\\n",
       "date                                                                    \n",
       "2001/01/08      0.949153           0            189          0.949153   \n",
       "2001/01/05      0.949153           0            189          0.949153   \n",
       "2001/01/04      0.949153    2.162162            189          0.949153   \n",
       "2001/01/03      0.929065          nd            185          0.929065   \n",
       "2001/01/02            nd          nd             nd                nd   \n",
       "\n",
       "           Mín Ajustado Médio Ajustado Máx Ajustado Vol (MM R$) Negócios  \\\n",
       "date                                                                       \n",
       "2001/01/08     0.949153       0.949153     0.949153     0.12474        2   \n",
       "2001/01/05     0.949153       0.949153     0.949153     0.01701        3   \n",
       "2001/01/04     0.949153       0.949153     0.949153     0.02268        1   \n",
       "2001/01/03     0.929065       0.929065     0.929065     0.00555        1   \n",
       "2001/01/02           nd             nd           nd          nd       nd   \n",
       "\n",
       "           Fator        Tipo  \n",
       "date                          \n",
       "2001/01/08  1000  ON *EJ      \n",
       "2001/01/05  1000  ON *EJ      \n",
       "2001/01/04  1000  ON *EJ      \n",
       "2001/01/03  1000  ON *EJ      \n",
       "2001/01/02    nd          nd  "
      ]
     },
     "execution_count": 16,
     "metadata": {},
     "output_type": "execute_result"
    }
   ],
   "source": [
    "stock.tail()"
   ]
  },
  {
   "cell_type": "code",
   "execution_count": 17,
   "id": "1b282cfb",
   "metadata": {},
   "outputs": [],
   "source": [
    "# concatenating two Dataframes:\n",
    "combined_df = merge_portifolio(stock_prepared, factors)"
   ]
  },
  {
   "cell_type": "code",
   "execution_count": 18,
   "id": "e5eb08da",
   "metadata": {},
   "outputs": [
    {
     "data": {
      "text/html": [
       "<div>\n",
       "<style scoped>\n",
       "    .dataframe tbody tr th:only-of-type {\n",
       "        vertical-align: middle;\n",
       "    }\n",
       "\n",
       "    .dataframe tbody tr th {\n",
       "        vertical-align: top;\n",
       "    }\n",
       "\n",
       "    .dataframe thead th {\n",
       "        text-align: right;\n",
       "    }\n",
       "</style>\n",
       "<table border=\"1\" class=\"dataframe\">\n",
       "  <thead>\n",
       "    <tr style=\"text-align: right;\">\n",
       "      <th></th>\n",
       "      <th>Mkt-RF</th>\n",
       "      <th>HML</th>\n",
       "      <th>IML</th>\n",
       "      <th>SMB</th>\n",
       "      <th>WML</th>\n",
       "      <th>Close</th>\n",
       "      <th>Returns</th>\n",
       "    </tr>\n",
       "    <tr>\n",
       "      <th>date</th>\n",
       "      <th></th>\n",
       "      <th></th>\n",
       "      <th></th>\n",
       "      <th></th>\n",
       "      <th></th>\n",
       "      <th></th>\n",
       "      <th></th>\n",
       "    </tr>\n",
       "  </thead>\n",
       "  <tbody>\n",
       "    <tr>\n",
       "      <th>2001/01/04</th>\n",
       "      <td>-0.000310</td>\n",
       "      <td>-0.002327</td>\n",
       "      <td>-0.009227</td>\n",
       "      <td>0.006690</td>\n",
       "      <td>-0.000946</td>\n",
       "      <td>0.949153</td>\n",
       "      <td>2.162162</td>\n",
       "    </tr>\n",
       "    <tr>\n",
       "      <th>2001/01/05</th>\n",
       "      <td>-0.012839</td>\n",
       "      <td>-0.002397</td>\n",
       "      <td>0.025124</td>\n",
       "      <td>0.003523</td>\n",
       "      <td>0.005985</td>\n",
       "      <td>0.949153</td>\n",
       "      <td>0.000000</td>\n",
       "    </tr>\n",
       "    <tr>\n",
       "      <th>2001/01/08</th>\n",
       "      <td>0.003982</td>\n",
       "      <td>0.001948</td>\n",
       "      <td>-0.001175</td>\n",
       "      <td>0.007883</td>\n",
       "      <td>-0.004099</td>\n",
       "      <td>0.949153</td>\n",
       "      <td>0.000000</td>\n",
       "    </tr>\n",
       "    <tr>\n",
       "      <th>2001/01/09</th>\n",
       "      <td>0.019986</td>\n",
       "      <td>-0.000916</td>\n",
       "      <td>-0.003978</td>\n",
       "      <td>0.005928</td>\n",
       "      <td>0.009564</td>\n",
       "      <td>0.949153</td>\n",
       "      <td>0.000000</td>\n",
       "    </tr>\n",
       "    <tr>\n",
       "      <th>2001/01/10</th>\n",
       "      <td>-0.004368</td>\n",
       "      <td>0.012468</td>\n",
       "      <td>0.022134</td>\n",
       "      <td>0.013150</td>\n",
       "      <td>-0.000691</td>\n",
       "      <td>0.949153</td>\n",
       "      <td>0.000000</td>\n",
       "    </tr>\n",
       "    <tr>\n",
       "      <th>...</th>\n",
       "      <td>...</td>\n",
       "      <td>...</td>\n",
       "      <td>...</td>\n",
       "      <td>...</td>\n",
       "      <td>...</td>\n",
       "      <td>...</td>\n",
       "      <td>...</td>\n",
       "    </tr>\n",
       "    <tr>\n",
       "      <th>2023/04/24</th>\n",
       "      <td>-0.003781</td>\n",
       "      <td>0.003445</td>\n",
       "      <td>0.002344</td>\n",
       "      <td>0.002098</td>\n",
       "      <td>-0.008456</td>\n",
       "      <td>21.412877</td>\n",
       "      <td>-0.832948</td>\n",
       "    </tr>\n",
       "    <tr>\n",
       "      <th>2023/04/25</th>\n",
       "      <td>-0.006295</td>\n",
       "      <td>-0.004699</td>\n",
       "      <td>-0.001941</td>\n",
       "      <td>-0.008449</td>\n",
       "      <td>0.008281</td>\n",
       "      <td>21.602726</td>\n",
       "      <td>0.886608</td>\n",
       "    </tr>\n",
       "    <tr>\n",
       "      <th>2023/04/26</th>\n",
       "      <td>-0.007424</td>\n",
       "      <td>0.007253</td>\n",
       "      <td>0.012345</td>\n",
       "      <td>0.010940</td>\n",
       "      <td>0.005710</td>\n",
       "      <td>21.432861</td>\n",
       "      <td>-0.786309</td>\n",
       "    </tr>\n",
       "    <tr>\n",
       "      <th>2023/04/27</th>\n",
       "      <td>0.005182</td>\n",
       "      <td>0.010677</td>\n",
       "      <td>0.003433</td>\n",
       "      <td>0.007564</td>\n",
       "      <td>-0.010000</td>\n",
       "      <td>21.812558</td>\n",
       "      <td>1.771562</td>\n",
       "    </tr>\n",
       "    <tr>\n",
       "      <th>2023/04/28</th>\n",
       "      <td>0.014016</td>\n",
       "      <td>0.010166</td>\n",
       "      <td>0.004222</td>\n",
       "      <td>0.008966</td>\n",
       "      <td>-0.022140</td>\n",
       "      <td>22.072350</td>\n",
       "      <td>1.191022</td>\n",
       "    </tr>\n",
       "  </tbody>\n",
       "</table>\n",
       "<p>5242 rows × 7 columns</p>\n",
       "</div>"
      ],
      "text/plain": [
       "              Mkt-RF       HML       IML       SMB       WML      Close  \\\n",
       "date                                                                      \n",
       "2001/01/04 -0.000310 -0.002327 -0.009227  0.006690 -0.000946   0.949153   \n",
       "2001/01/05 -0.012839 -0.002397  0.025124  0.003523  0.005985   0.949153   \n",
       "2001/01/08  0.003982  0.001948 -0.001175  0.007883 -0.004099   0.949153   \n",
       "2001/01/09  0.019986 -0.000916 -0.003978  0.005928  0.009564   0.949153   \n",
       "2001/01/10 -0.004368  0.012468  0.022134  0.013150 -0.000691   0.949153   \n",
       "...              ...       ...       ...       ...       ...        ...   \n",
       "2023/04/24 -0.003781  0.003445  0.002344  0.002098 -0.008456  21.412877   \n",
       "2023/04/25 -0.006295 -0.004699 -0.001941 -0.008449  0.008281  21.602726   \n",
       "2023/04/26 -0.007424  0.007253  0.012345  0.010940  0.005710  21.432861   \n",
       "2023/04/27  0.005182  0.010677  0.003433  0.007564 -0.010000  21.812558   \n",
       "2023/04/28  0.014016  0.010166  0.004222  0.008966 -0.022140  22.072350   \n",
       "\n",
       "             Returns  \n",
       "date                  \n",
       "2001/01/04  2.162162  \n",
       "2001/01/05  0.000000  \n",
       "2001/01/08  0.000000  \n",
       "2001/01/09  0.000000  \n",
       "2001/01/10  0.000000  \n",
       "...              ...  \n",
       "2023/04/24 -0.832948  \n",
       "2023/04/25  0.886608  \n",
       "2023/04/26 -0.786309  \n",
       "2023/04/27  1.771562  \n",
       "2023/04/28  1.191022  \n",
       "\n",
       "[5242 rows x 7 columns]"
      ]
     },
     "execution_count": 18,
     "metadata": {},
     "output_type": "execute_result"
    }
   ],
   "source": [
    "combined_df"
   ]
  },
  {
   "cell_type": "markdown",
   "id": "fc993e60",
   "metadata": {},
   "source": [
    "## Split Train / Test Method:\n"
   ]
  },
  {
   "cell_type": "markdown",
   "id": "8100032a",
   "metadata": {},
   "source": [
    "In order to preserve the temporal order of the data:"
   ]
  },
  {
   "cell_type": "code",
   "execution_count": 19,
   "id": "bc3d7640",
   "metadata": {},
   "outputs": [],
   "source": [
    "def split_data(data,rate=0.8):\n",
    "    # Define X and y variables:\n",
    "    X = data.drop('Returns', axis=1)\n",
    "    X = X.drop('Close',axis=1)\n",
    "    y = data.loc[:, 'Returns']\n",
    "    # Split into Training/Testing Data:\n",
    "    split = int(rate * len(X))\n",
    "    X_train = X[: split]\n",
    "    X_test = X[split:]\n",
    "    y_train = y[: split]\n",
    "    y_test = y[split:]\n",
    "#     close_test=data[\"Close\"][split:]\n",
    "#     close_test\n",
    "    return X_train, X_test, y_train, y_test"
   ]
  },
  {
   "cell_type": "code",
   "execution_count": 20,
   "id": "ae2394cb",
   "metadata": {},
   "outputs": [],
   "source": [
    "X_train, X_test, y_train, y_test = split_data(combined_df,rate=0.8)"
   ]
  },
  {
   "cell_type": "markdown",
   "id": "590bb17d",
   "metadata": {},
   "source": [
    "## Make predictions:"
   ]
  },
  {
   "cell_type": "code",
   "execution_count": 21,
   "id": "bbafa761",
   "metadata": {},
   "outputs": [],
   "source": [
    "lin_reg_model = LinearRegression(fit_intercept=True)\n",
    "lin_reg_model = lin_reg_model.fit(X_train, y_train)\n",
    "predictions = lin_reg_model.predict(X_test)"
   ]
  },
  {
   "cell_type": "code",
   "execution_count": 22,
   "id": "a35dbd81",
   "metadata": {},
   "outputs": [],
   "source": [
    "# Convert y_test to a dataframe:\n",
    "y_test = y_test.to_frame()"
   ]
  },
  {
   "cell_type": "code",
   "execution_count": 23,
   "id": "3dd9552e",
   "metadata": {},
   "outputs": [
    {
     "ename": "NameError",
     "evalue": "name 'close_test' is not defined",
     "output_type": "error",
     "traceback": [
      "\u001b[0;31m---------------------------------------------------------------------------\u001b[0m",
      "\u001b[0;31mNameError\u001b[0m                                 Traceback (most recent call last)",
      "Cell \u001b[0;32mIn[23], line 5\u001b[0m\n\u001b[1;32m      3\u001b[0m \u001b[38;5;66;03m# Add \"predictions\" to dataframe:\u001b[39;00m\n\u001b[1;32m      4\u001b[0m y_test[\u001b[38;5;124m'\u001b[39m\u001b[38;5;124mPredictions\u001b[39m\u001b[38;5;124m'\u001b[39m] \u001b[38;5;241m=\u001b[39m predictions\n\u001b[0;32m----> 5\u001b[0m y_test[\u001b[38;5;124m\"\u001b[39m\u001b[38;5;124mClose\u001b[39m\u001b[38;5;124m\"\u001b[39m]\u001b[38;5;241m=\u001b[39m\u001b[43mclose_test\u001b[49m\n\u001b[1;32m      7\u001b[0m \u001b[38;5;66;03m# Add \"Buy Signal\" column based on whether day's predictions were greater than the day's actual returns:\u001b[39;00m\n\u001b[1;32m      8\u001b[0m y_test[\u001b[38;5;124m'\u001b[39m\u001b[38;5;124mBuy Signal\u001b[39m\u001b[38;5;124m'\u001b[39m] \u001b[38;5;241m=\u001b[39m np\u001b[38;5;241m.\u001b[39mwhere(y_test[\u001b[38;5;124m'\u001b[39m\u001b[38;5;124mPredictions\u001b[39m\u001b[38;5;124m'\u001b[39m] \u001b[38;5;241m>\u001b[39m y_test[\u001b[38;5;124m'\u001b[39m\u001b[38;5;124mReturns\u001b[39m\u001b[38;5;124m'\u001b[39m], \u001b[38;5;241m1.0\u001b[39m,\u001b[38;5;241m0.0\u001b[39m)\n",
      "\u001b[0;31mNameError\u001b[0m: name 'close_test' is not defined"
     ]
    }
   ],
   "source": [
    "signals_df = y_test.copy()\n",
    "\n",
    "# Add \"predictions\" to dataframe:\n",
    "y_test['Predictions'] = predictions\n",
    "y_test[\"Close\"]=close_test\n",
    "\n",
    "# Add \"Buy Signal\" column based on whether day's predictions were greater than the day's actual returns:\n",
    "y_test['Buy Signal'] = np.where(y_test['Predictions'] > y_test['Returns'], 1.0,0.0)\n",
    "\n",
    "# Drop nulls:\n",
    "y_test=y_test.dropna()\n",
    "\n",
    "y_test.head()\n"
   ]
  },
  {
   "cell_type": "code",
   "execution_count": null,
   "id": "b249bfcc",
   "metadata": {},
   "outputs": [],
   "source": [
    "# Generate and view signals dataframe using generate signals function\n",
    "signals_df=generate_signals(y_test)\n",
    "signals_df.head(10)"
   ]
  },
  {
   "cell_type": "code",
   "execution_count": null,
   "id": "d19fa145",
   "metadata": {},
   "outputs": [],
   "source": [
    "algo_evaluation(signals_df)"
   ]
  },
  {
   "cell_type": "code",
   "execution_count": null,
   "id": "cf3fef14",
   "metadata": {},
   "outputs": [],
   "source": [
    "# Generate Metrics for Function vs. Buy-and-Hold Strategy:\n",
    "algo_vs_underlying(signals_df)"
   ]
  },
  {
   "cell_type": "code",
   "execution_count": null,
   "id": "136dbea1",
   "metadata": {},
   "outputs": [],
   "source": [
    "# Generate Evaluation table:\n",
    "trade_evaluation_df=trade_evaluation(signals_df)\n",
    "trade_evaluation_df"
   ]
  },
  {
   "cell_type": "markdown",
   "id": "8197c573",
   "metadata": {},
   "source": [
    "## ANOVA Table / Other Visualizations for 3-Factor Models:\n",
    "\n",
    "### ATT"
   ]
  },
  {
   "cell_type": "code",
   "execution_count": null,
   "id": "8de76507",
   "metadata": {},
   "outputs": [],
   "source": [
    "# To run models:\n",
    "import statsmodels.api as sm\n",
    "from sklearn.ensemble import RandomForestClassifier\n",
    "from sklearn.datasets import make_classification\n",
    "from joblib import dump, load"
   ]
  },
  {
   "cell_type": "code",
   "execution_count": null,
   "id": "4c7eb8b9",
   "metadata": {},
   "outputs": [],
   "source": [
    "# Set X and y variables:\n",
    "y = combined_df.loc[:, 'Returns']\n",
    "X = combined_df.drop('Returns', axis=1)\n",
    "X = X.drop('Close',axis=1)\n",
    "\n",
    "# Add \"Constant\" column of \"1s\" to DataFrame to act as an intercept, using StatsModels:\n",
    "X = sm.add_constant(X)\n",
    "\n",
    "# Split into Training/Testing data:\n",
    "split = int(0.8 * len(X))\n",
    "X_train = X[: split]\n",
    "X_test = X[split:]\n",
    "y_train = y[: split]\n",
    "y_test = y[split:]\n",
    "\n",
    "# Run Ordinary Least Squares (OLS )Model:\n",
    "model = sm.OLS(y_test, X_test)\n",
    "model_results = model.fit()\n",
    "print(model_results.summary())"
   ]
  },
  {
   "cell_type": "code",
   "execution_count": null,
   "id": "d4f83762",
   "metadata": {},
   "outputs": [],
   "source": [
    "\n",
    "# Plot Partial Regression Plot:\n",
    "fig = sm.graphics.plot_partregress_grid(model_results, fig = plt.figure(figsize=(12,8)))\n",
    "plt.show()"
   ]
  },
  {
   "cell_type": "code",
   "execution_count": null,
   "id": "4457088e",
   "metadata": {},
   "outputs": [],
   "source": [
    "# Plot P&L Histrogram:\n",
    "trade_evaluation_df[\"Profit/Loss\"].hist(bins=20)"
   ]
  },
  {
   "cell_type": "code",
   "execution_count": null,
   "id": "d89089fc",
   "metadata": {},
   "outputs": [],
   "source": [
    "\n",
    "# Generate Cumulative Return plot using above defined function:\n",
    "underlying_returns(signals_df).plot(figsize=(20,10))"
   ]
  },
  {
   "cell_type": "code",
   "execution_count": null,
   "id": "af81ec4e",
   "metadata": {},
   "outputs": [],
   "source": []
  },
  {
   "cell_type": "markdown",
   "id": "22366422",
   "metadata": {},
   "source": [
    "# VALE3\n"
   ]
  },
  {
   "cell_type": "code",
   "execution_count": null,
   "id": "ad703e6d",
   "metadata": {},
   "outputs": [],
   "source": [
    "ticker = \"VALE3\"\n",
    "stock = choose_stock(ticker,stocks_folder)\n",
    "stock.head()"
   ]
  },
  {
   "cell_type": "code",
   "execution_count": null,
   "id": "a75f9fd5",
   "metadata": {},
   "outputs": [],
   "source": [
    "stock_prepared = prepare_portfolio(stock,1)\n",
    "stock_prepared.head()"
   ]
  },
  {
   "cell_type": "code",
   "execution_count": null,
   "id": "78cc426b",
   "metadata": {},
   "outputs": [],
   "source": [
    "# concatenating two Dataframes:\n",
    "combined_df = merge_portifolio(stock_prepared, factors)\n",
    "combined_df.head()"
   ]
  },
  {
   "cell_type": "code",
   "execution_count": null,
   "id": "205d56ba",
   "metadata": {},
   "outputs": [],
   "source": [
    "X_train, X_test, y_train, y_test = split_data(combined_df,rate=0.8)"
   ]
  },
  {
   "cell_type": "code",
   "execution_count": null,
   "id": "d720d48e",
   "metadata": {},
   "outputs": [],
   "source": [
    "# Create, train, and predict model:\n",
    "lin_reg_model = LinearRegression(fit_intercept=True)\n",
    "lin_reg_model = lin_reg_model.fit(X_train, y_train)\n",
    "predictions = lin_reg_model.predict(X_test)"
   ]
  },
  {
   "cell_type": "code",
   "execution_count": null,
   "id": "5b7d2ca7",
   "metadata": {},
   "outputs": [],
   "source": [
    "# Convert y_test to a dataframe:\n",
    "y_test = y_test.to_frame()"
   ]
  },
  {
   "cell_type": "code",
   "execution_count": null,
   "id": "f5478350",
   "metadata": {},
   "outputs": [],
   "source": [
    "signals_df = y_test.copy()\n",
    "\n",
    "# Add \"predictions\" to dataframe:\n",
    "y_test['Predictions'] = predictions\n",
    "y_test[\"Close\"]=close_test\n",
    "\n",
    "# Add \"Buy Signal\" column based on whether day's predictions were greater than the day's actual returns:\n",
    "y_test['Buy Signal'] = np.where(y_test['Predictions'] > y_test['Returns'], 1.0,0.0)\n",
    "\n",
    "# Drop nulls:\n",
    "y_test=y_test.dropna()\n",
    "\n",
    "y_test.head()"
   ]
  },
  {
   "cell_type": "code",
   "execution_count": null,
   "id": "2b52cc96",
   "metadata": {},
   "outputs": [],
   "source": [
    "# Generate signals Dataframe using generate signals function\n",
    "signals_df=generate_signals(y_test)"
   ]
  },
  {
   "cell_type": "code",
   "execution_count": null,
   "id": "09c5cb53",
   "metadata": {},
   "outputs": [],
   "source": [
    "# Generate Metrics table for Algorithm:\n",
    "algo_evaluation(signals_df)"
   ]
  },
  {
   "cell_type": "code",
   "execution_count": null,
   "id": "1be2e71b",
   "metadata": {},
   "outputs": [],
   "source": [
    "# Generate Metrics table for Algorithm vs. Buy-and-Hold Strategy:\n",
    "algo_vs_underlying(signals_df)"
   ]
  },
  {
   "cell_type": "code",
   "execution_count": null,
   "id": "5065dcf2",
   "metadata": {},
   "outputs": [],
   "source": [
    "# Generate Metrics table for Disney using pre-defined function:\n",
    "trade_evaluation_df=trade_evaluation(signals_df)\n",
    "trade_evaluation_df"
   ]
  },
  {
   "cell_type": "code",
   "execution_count": null,
   "id": "4978f275",
   "metadata": {},
   "outputs": [],
   "source": [
    "# Set X and y variables:\n",
    "y = combined_df.loc[:, 'Returns']\n",
    "X = combined_df.drop('Returns', axis=1)\n",
    "X = X.drop('Close',axis=1)\n",
    "\n",
    "# Add \"Constant\" column of \"1s\" to DataFrame to act as an intercept, using StatsModels:\n",
    "X = sm.add_constant(X)\n",
    "\n",
    "# Split into Training/Testing data:\n",
    "split = int(0.8 * len(X))\n",
    "X_train = X[: split]\n",
    "X_test = X[split:]\n",
    "y_train = y[: split]\n",
    "y_test = y[split:]\n",
    "\n",
    "# Run Ordinary Least Squares (OLS )Model:\n",
    "model = sm.OLS(y_test, X_test)\n",
    "model_results = model.fit()\n",
    "print(model_results.summary())"
   ]
  },
  {
   "cell_type": "code",
   "execution_count": null,
   "id": "f44bf2fc",
   "metadata": {},
   "outputs": [],
   "source": [
    "# Plot Partial Regression Plot:\n",
    "fig = sm.graphics.plot_partregress_grid(model_results, fig = plt.figure(figsize=(12,8)))\n",
    "plt.show()\n"
   ]
  },
  {
   "cell_type": "code",
   "execution_count": null,
   "id": "3610111b",
   "metadata": {},
   "outputs": [],
   "source": [
    "# Plot Cumulative Returns:\n",
    "underlying_returns(signals_df).plot(figsize=(20,10))"
   ]
  },
  {
   "cell_type": "code",
   "execution_count": null,
   "id": "5e612492",
   "metadata": {},
   "outputs": [],
   "source": []
  }
 ],
 "metadata": {
  "kernelspec": {
   "display_name": "Python 3 (ipykernel)",
   "language": "python",
   "name": "python3"
  },
  "language_info": {
   "codemirror_mode": {
    "name": "ipython",
    "version": 3
   },
   "file_extension": ".py",
   "mimetype": "text/x-python",
   "name": "python",
   "nbconvert_exporter": "python",
   "pygments_lexer": "ipython3",
   "version": "3.10.9"
  }
 },
 "nbformat": 4,
 "nbformat_minor": 5
}
